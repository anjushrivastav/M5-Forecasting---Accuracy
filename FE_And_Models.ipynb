{
  "nbformat": 4,
  "nbformat_minor": 0,
  "metadata": {
    "colab": {
      "name": "FE_And_Models.ipynb",
      "provenance": [],
      "collapsed_sections": [],
      "machine_shape": "hm"
    },
    "kernelspec": {
      "display_name": "Python 3",
      "language": "python",
      "name": "python3"
    },
    "language_info": {
      "codemirror_mode": {
        "name": "ipython",
        "version": 3
      },
      "file_extension": ".py",
      "mimetype": "text/x-python",
      "name": "python",
      "nbconvert_exporter": "python",
      "pygments_lexer": "ipython3",
      "version": "3.7.4"
    },
    "latex_envs": {
      "LaTeX_envs_menu_present": true,
      "autoclose": false,
      "autocomplete": true,
      "bibliofile": "biblio.bib",
      "cite_by": "apalike",
      "current_citInitial": 1,
      "eqLabelWithNumbers": true,
      "eqNumInitial": 1,
      "hotkeys": {
        "equation": "Ctrl-E",
        "itemize": "Ctrl-I"
      },
      "labels_anchors": false,
      "latex_user_defs": false,
      "report_style_numbering": false,
      "user_envs_cfg": false
    },
    "toc": {
      "base_numbering": 1,
      "nav_menu": {},
      "number_sections": true,
      "sideBar": true,
      "skip_h1_title": false,
      "title_cell": "Table of Contents",
      "title_sidebar": "Contents",
      "toc_cell": false,
      "toc_position": {},
      "toc_section_display": true,
      "toc_window_display": false
    },
    "accelerator": "TPU"
  },
  "cells": [
    {
      "cell_type": "code",
      "metadata": {
        "colab": {
          "base_uri": "https://localhost:8080/"
        },
        "id": "oPLti51o_u3P",
        "outputId": "ffce9add-b78f-4b4c-8827-cccca798de66"
      },
      "source": [
        "pip install downcast"
      ],
      "execution_count": 1,
      "outputs": [
        {
          "output_type": "stream",
          "text": [
            "Collecting downcast\n",
            "  Downloading https://files.pythonhosted.org/packages/60/11/0468306ef6b191c6f53a0005f96e289494f885556a4ab80c438adc64a99f/downcast-0.0.8-py3-none-any.whl\n",
            "Installing collected packages: downcast\n",
            "Successfully installed downcast-0.0.8\n"
          ],
          "name": "stdout"
        }
      ]
    },
    {
      "cell_type": "code",
      "metadata": {
        "colab": {
          "base_uri": "https://localhost:8080/"
        },
        "id": "gKXcIK30KIzS",
        "outputId": "0eac0c57-7918-4e5d-d236-db8579099fbf"
      },
      "source": [
        "pip install catboost"
      ],
      "execution_count": 2,
      "outputs": [
        {
          "output_type": "stream",
          "text": [
            "Collecting catboost\n",
            "\u001b[?25l  Downloading https://files.pythonhosted.org/packages/5a/41/24e14322b9986cf72a8763e0a0a69cc256cf963cf9502c8f0044a62c1ae8/catboost-0.26-cp37-none-manylinux1_x86_64.whl (69.2MB)\n",
            "\u001b[K     |████████████████████████████████| 69.2MB 48kB/s \n",
            "\u001b[?25hRequirement already satisfied: matplotlib in /usr/local/lib/python3.7/dist-packages (from catboost) (3.2.2)\n",
            "Requirement already satisfied: plotly in /usr/local/lib/python3.7/dist-packages (from catboost) (4.4.1)\n",
            "Requirement already satisfied: pandas>=0.24.0 in /usr/local/lib/python3.7/dist-packages (from catboost) (1.1.5)\n",
            "Requirement already satisfied: six in /usr/local/lib/python3.7/dist-packages (from catboost) (1.15.0)\n",
            "Requirement already satisfied: graphviz in /usr/local/lib/python3.7/dist-packages (from catboost) (0.10.1)\n",
            "Requirement already satisfied: scipy in /usr/local/lib/python3.7/dist-packages (from catboost) (1.4.1)\n",
            "Requirement already satisfied: numpy>=1.16.0 in /usr/local/lib/python3.7/dist-packages (from catboost) (1.19.5)\n",
            "Requirement already satisfied: kiwisolver>=1.0.1 in /usr/local/lib/python3.7/dist-packages (from matplotlib->catboost) (1.3.1)\n",
            "Requirement already satisfied: python-dateutil>=2.1 in /usr/local/lib/python3.7/dist-packages (from matplotlib->catboost) (2.8.1)\n",
            "Requirement already satisfied: cycler>=0.10 in /usr/local/lib/python3.7/dist-packages (from matplotlib->catboost) (0.10.0)\n",
            "Requirement already satisfied: pyparsing!=2.0.4,!=2.1.2,!=2.1.6,>=2.0.1 in /usr/local/lib/python3.7/dist-packages (from matplotlib->catboost) (2.4.7)\n",
            "Requirement already satisfied: retrying>=1.3.3 in /usr/local/lib/python3.7/dist-packages (from plotly->catboost) (1.3.3)\n",
            "Requirement already satisfied: pytz>=2017.2 in /usr/local/lib/python3.7/dist-packages (from pandas>=0.24.0->catboost) (2018.9)\n",
            "Installing collected packages: catboost\n",
            "Successfully installed catboost-0.26\n"
          ],
          "name": "stdout"
        }
      ]
    },
    {
      "cell_type": "code",
      "metadata": {
        "id": "4ySiJ5YaFy7P"
      },
      "source": [
        "import pandas as pd\n",
        "import pickle\n",
        "import numpy as np\n",
        "from downcast import reduce\n",
        "from matplotlib import pyplot as plt\n",
        "import seaborn as sns\n",
        "import plotly.express as px\n",
        "from tqdm import tqdm\n",
        "from sklearn.linear_model import LinearRegression\n",
        "import warnings\n",
        "warnings.filterwarnings(\"ignore\")\n",
        "import random \n",
        "from catboost import CatBoostRegressor\n",
        "from xgboost import XGBRegressor\n",
        "from sklearn.tree import DecisionTreeRegressor\n",
        "from lightgbm import LGBMRegressor\n",
        "from sklearn.ensemble import RandomForestRegressor\n"
      ],
      "execution_count": 62,
      "outputs": []
    },
    {
      "cell_type": "code",
      "metadata": {
        "colab": {
          "base_uri": "https://localhost:8080/"
        },
        "id": "TMUhvuWi-UcJ",
        "outputId": "727e3824-65f3-4370-be9f-1724ca36aa47"
      },
      "source": [
        "from google.colab import drive\n",
        "drive.mount('/content/gdrive')"
      ],
      "execution_count": 61,
      "outputs": [
        {
          "output_type": "stream",
          "text": [
            "Drive already mounted at /content/gdrive; to attempt to forcibly remount, call drive.mount(\"/content/gdrive\", force_remount=True).\n"
          ],
          "name": "stdout"
        }
      ]
    },
    {
      "cell_type": "markdown",
      "metadata": {
        "id": "0ofhtx6zfyZm"
      },
      "source": [
        "**Read all the csv files**"
      ]
    },
    {
      "cell_type": "code",
      "metadata": {
        "id": "5j1nhFShfNmx"
      },
      "source": [
        "calendar=pd.read_csv('/content/gdrive/MyDrive/m5-accuracy/calendar.csv') # Read calendar.csv file, Contains information about the dates on which the products are sold\n",
        "sales_evaluation=pd.read_csv('/content/gdrive/MyDrive/m5-accuracy/sales_train_evaluation.csv') #Contains the historical daily unit sales data per product and store [d_1 - d_1941]\n",
        "sell_prices=pd.read_csv('/content/gdrive/MyDrive/m5-accuracy/sell_prices.csv') # Contains information about the price of the products sold per store and date."
      ],
      "execution_count": 3,
      "outputs": []
    },
    {
      "cell_type": "code",
      "metadata": {
        "colab": {
          "base_uri": "https://localhost:8080/",
          "height": 111
        },
        "id": "Kw4ll9ETljsR",
        "outputId": "332caae6-bc18-4df7-f170-81fac2c710db"
      },
      "source": [
        "# reframing the sales(sales_train_evaluation.csv) dataframe in such a way that it can be merged with other csv files.\n",
        "data = pd.melt(sales_evaluation, \n",
        "               id_vars=['id', 'item_id', 'dept_id', 'cat_id', 'store_id', 'state_id'],\n",
        "               var_name='day', value_name='sales')\n",
        "data.head(2)"
      ],
      "execution_count": 6,
      "outputs": [
        {
          "output_type": "execute_result",
          "data": {
            "text/html": [
              "<div>\n",
              "<style scoped>\n",
              "    .dataframe tbody tr th:only-of-type {\n",
              "        vertical-align: middle;\n",
              "    }\n",
              "\n",
              "    .dataframe tbody tr th {\n",
              "        vertical-align: top;\n",
              "    }\n",
              "\n",
              "    .dataframe thead th {\n",
              "        text-align: right;\n",
              "    }\n",
              "</style>\n",
              "<table border=\"1\" class=\"dataframe\">\n",
              "  <thead>\n",
              "    <tr style=\"text-align: right;\">\n",
              "      <th></th>\n",
              "      <th>id</th>\n",
              "      <th>item_id</th>\n",
              "      <th>dept_id</th>\n",
              "      <th>cat_id</th>\n",
              "      <th>store_id</th>\n",
              "      <th>state_id</th>\n",
              "      <th>day</th>\n",
              "      <th>sales</th>\n",
              "    </tr>\n",
              "  </thead>\n",
              "  <tbody>\n",
              "    <tr>\n",
              "      <th>0</th>\n",
              "      <td>HOBBIES_1_001_CA_1_evaluation</td>\n",
              "      <td>HOBBIES_1_001</td>\n",
              "      <td>HOBBIES_1</td>\n",
              "      <td>HOBBIES</td>\n",
              "      <td>CA_1</td>\n",
              "      <td>CA</td>\n",
              "      <td>d_1</td>\n",
              "      <td>0</td>\n",
              "    </tr>\n",
              "    <tr>\n",
              "      <th>1</th>\n",
              "      <td>HOBBIES_1_002_CA_1_evaluation</td>\n",
              "      <td>HOBBIES_1_002</td>\n",
              "      <td>HOBBIES_1</td>\n",
              "      <td>HOBBIES</td>\n",
              "      <td>CA_1</td>\n",
              "      <td>CA</td>\n",
              "      <td>d_1</td>\n",
              "      <td>0</td>\n",
              "    </tr>\n",
              "  </tbody>\n",
              "</table>\n",
              "</div>"
            ],
            "text/plain": [
              "                              id        item_id    dept_id  ... state_id  day sales\n",
              "0  HOBBIES_1_001_CA_1_evaluation  HOBBIES_1_001  HOBBIES_1  ...       CA  d_1     0\n",
              "1  HOBBIES_1_002_CA_1_evaluation  HOBBIES_1_002  HOBBIES_1  ...       CA  d_1     0\n",
              "\n",
              "[2 rows x 8 columns]"
            ]
          },
          "metadata": {
            "tags": []
          },
          "execution_count": 6
        }
      ]
    },
    {
      "cell_type": "code",
      "metadata": {
        "id": "qeofjYOmln8L"
      },
      "source": [
        "#  merging calendar dataframe with data \n",
        "data = data.merge(calendar, left_on='day', right_on='d')\n",
        "# merging prices dataframe with data \n",
        "data = data.merge(sell_prices,on=['store_id','item_id', 'wm_yr_wk'], how='left')"
      ],
      "execution_count": 7,
      "outputs": []
    },
    {
      "cell_type": "code",
      "metadata": {
        "colab": {
          "base_uri": "https://localhost:8080/"
        },
        "id": "A-_1162vlvO9",
        "outputId": "10864654-5658-45b8-806c-c841389c1b1c"
      },
      "source": [
        "data.shape"
      ],
      "execution_count": 9,
      "outputs": [
        {
          "output_type": "execute_result",
          "data": {
            "text/plain": [
              "(59181090, 23)"
            ]
          },
          "metadata": {
            "tags": []
          },
          "execution_count": 9
        }
      ]
    },
    {
      "cell_type": "code",
      "metadata": {
        "colab": {
          "base_uri": "https://localhost:8080/"
        },
        "id": "z0KTQMoqlxBb",
        "outputId": "893896bb-3228-4855-b634-984ee37c3cd5"
      },
      "source": [
        "#check all null values\n",
        "print(\"Number of null values :\",data.isna().sum())"
      ],
      "execution_count": 10,
      "outputs": [
        {
          "output_type": "stream",
          "text": [
            "Number of null values : id                     0\n",
            "item_id                0\n",
            "dept_id                0\n",
            "cat_id                 0\n",
            "store_id               0\n",
            "state_id               0\n",
            "day                    0\n",
            "sales                  0\n",
            "date                   0\n",
            "wm_yr_wk               0\n",
            "weekday                0\n",
            "wday                   0\n",
            "month                  0\n",
            "year                   0\n",
            "d                      0\n",
            "event_name_1    54363670\n",
            "event_type_1    54363670\n",
            "event_name_2    59059130\n",
            "event_type_2    59059130\n",
            "snap_CA                0\n",
            "snap_TX                0\n",
            "snap_WI                0\n",
            "sell_price      12299413\n",
            "dtype: int64\n"
          ],
          "name": "stdout"
        }
      ]
    },
    {
      "cell_type": "markdown",
      "metadata": {
        "id": "gtS9am95l1Z8"
      },
      "source": [
        "**Perform Mean Imputation in sell_price data frame because there is a lot of missing/null values in the sell price feature** \n",
        "\n",
        "The missing values can be imputed with the mean of that particular feature/data variable. That is, the null or missing values can be replaced by the mean of the data values of that particular data column or dataset"
      ]
    },
    {
      "cell_type": "code",
      "metadata": {
        "colab": {
          "base_uri": "https://localhost:8080/",
          "height": 394
        },
        "id": "8mnPGBdFl0Ty",
        "outputId": "0dade611-e763-4d03-fdad-42a1248d1814"
      },
      "source": [
        "# mean imputation on sell_price column values\n",
        "data['sell_price'].fillna(data.groupby('id')['sell_price'].transform('mean'), inplace=True)\n",
        "data.head(5)"
      ],
      "execution_count": 11,
      "outputs": [
        {
          "output_type": "execute_result",
          "data": {
            "text/html": [
              "<div>\n",
              "<style scoped>\n",
              "    .dataframe tbody tr th:only-of-type {\n",
              "        vertical-align: middle;\n",
              "    }\n",
              "\n",
              "    .dataframe tbody tr th {\n",
              "        vertical-align: top;\n",
              "    }\n",
              "\n",
              "    .dataframe thead th {\n",
              "        text-align: right;\n",
              "    }\n",
              "</style>\n",
              "<table border=\"1\" class=\"dataframe\">\n",
              "  <thead>\n",
              "    <tr style=\"text-align: right;\">\n",
              "      <th></th>\n",
              "      <th>id</th>\n",
              "      <th>item_id</th>\n",
              "      <th>dept_id</th>\n",
              "      <th>cat_id</th>\n",
              "      <th>store_id</th>\n",
              "      <th>state_id</th>\n",
              "      <th>day</th>\n",
              "      <th>sales</th>\n",
              "      <th>date</th>\n",
              "      <th>wm_yr_wk</th>\n",
              "      <th>weekday</th>\n",
              "      <th>wday</th>\n",
              "      <th>month</th>\n",
              "      <th>year</th>\n",
              "      <th>d</th>\n",
              "      <th>event_name_1</th>\n",
              "      <th>event_type_1</th>\n",
              "      <th>event_name_2</th>\n",
              "      <th>event_type_2</th>\n",
              "      <th>snap_CA</th>\n",
              "      <th>snap_TX</th>\n",
              "      <th>snap_WI</th>\n",
              "      <th>sell_price</th>\n",
              "    </tr>\n",
              "  </thead>\n",
              "  <tbody>\n",
              "    <tr>\n",
              "      <th>0</th>\n",
              "      <td>HOBBIES_1_001_CA_1_evaluation</td>\n",
              "      <td>HOBBIES_1_001</td>\n",
              "      <td>HOBBIES_1</td>\n",
              "      <td>HOBBIES</td>\n",
              "      <td>CA_1</td>\n",
              "      <td>CA</td>\n",
              "      <td>d_1</td>\n",
              "      <td>0</td>\n",
              "      <td>2011-01-29</td>\n",
              "      <td>11101</td>\n",
              "      <td>Saturday</td>\n",
              "      <td>1</td>\n",
              "      <td>1</td>\n",
              "      <td>2011</td>\n",
              "      <td>d_1</td>\n",
              "      <td>NaN</td>\n",
              "      <td>NaN</td>\n",
              "      <td>NaN</td>\n",
              "      <td>NaN</td>\n",
              "      <td>0</td>\n",
              "      <td>0</td>\n",
              "      <td>0</td>\n",
              "      <td>8.281250</td>\n",
              "    </tr>\n",
              "    <tr>\n",
              "      <th>1</th>\n",
              "      <td>HOBBIES_1_002_CA_1_evaluation</td>\n",
              "      <td>HOBBIES_1_002</td>\n",
              "      <td>HOBBIES_1</td>\n",
              "      <td>HOBBIES</td>\n",
              "      <td>CA_1</td>\n",
              "      <td>CA</td>\n",
              "      <td>d_1</td>\n",
              "      <td>0</td>\n",
              "      <td>2011-01-29</td>\n",
              "      <td>11101</td>\n",
              "      <td>Saturday</td>\n",
              "      <td>1</td>\n",
              "      <td>1</td>\n",
              "      <td>2011</td>\n",
              "      <td>d_1</td>\n",
              "      <td>NaN</td>\n",
              "      <td>NaN</td>\n",
              "      <td>NaN</td>\n",
              "      <td>NaN</td>\n",
              "      <td>0</td>\n",
              "      <td>0</td>\n",
              "      <td>0</td>\n",
              "      <td>3.970703</td>\n",
              "    </tr>\n",
              "    <tr>\n",
              "      <th>2</th>\n",
              "      <td>HOBBIES_1_003_CA_1_evaluation</td>\n",
              "      <td>HOBBIES_1_003</td>\n",
              "      <td>HOBBIES_1</td>\n",
              "      <td>HOBBIES</td>\n",
              "      <td>CA_1</td>\n",
              "      <td>CA</td>\n",
              "      <td>d_1</td>\n",
              "      <td>0</td>\n",
              "      <td>2011-01-29</td>\n",
              "      <td>11101</td>\n",
              "      <td>Saturday</td>\n",
              "      <td>1</td>\n",
              "      <td>1</td>\n",
              "      <td>2011</td>\n",
              "      <td>d_1</td>\n",
              "      <td>NaN</td>\n",
              "      <td>NaN</td>\n",
              "      <td>NaN</td>\n",
              "      <td>NaN</td>\n",
              "      <td>0</td>\n",
              "      <td>0</td>\n",
              "      <td>0</td>\n",
              "      <td>2.970703</td>\n",
              "    </tr>\n",
              "    <tr>\n",
              "      <th>3</th>\n",
              "      <td>HOBBIES_1_004_CA_1_evaluation</td>\n",
              "      <td>HOBBIES_1_004</td>\n",
              "      <td>HOBBIES_1</td>\n",
              "      <td>HOBBIES</td>\n",
              "      <td>CA_1</td>\n",
              "      <td>CA</td>\n",
              "      <td>d_1</td>\n",
              "      <td>0</td>\n",
              "      <td>2011-01-29</td>\n",
              "      <td>11101</td>\n",
              "      <td>Saturday</td>\n",
              "      <td>1</td>\n",
              "      <td>1</td>\n",
              "      <td>2011</td>\n",
              "      <td>d_1</td>\n",
              "      <td>NaN</td>\n",
              "      <td>NaN</td>\n",
              "      <td>NaN</td>\n",
              "      <td>NaN</td>\n",
              "      <td>0</td>\n",
              "      <td>0</td>\n",
              "      <td>0</td>\n",
              "      <td>4.527344</td>\n",
              "    </tr>\n",
              "    <tr>\n",
              "      <th>4</th>\n",
              "      <td>HOBBIES_1_005_CA_1_evaluation</td>\n",
              "      <td>HOBBIES_1_005</td>\n",
              "      <td>HOBBIES_1</td>\n",
              "      <td>HOBBIES</td>\n",
              "      <td>CA_1</td>\n",
              "      <td>CA</td>\n",
              "      <td>d_1</td>\n",
              "      <td>0</td>\n",
              "      <td>2011-01-29</td>\n",
              "      <td>11101</td>\n",
              "      <td>Saturday</td>\n",
              "      <td>1</td>\n",
              "      <td>1</td>\n",
              "      <td>2011</td>\n",
              "      <td>d_1</td>\n",
              "      <td>NaN</td>\n",
              "      <td>NaN</td>\n",
              "      <td>NaN</td>\n",
              "      <td>NaN</td>\n",
              "      <td>0</td>\n",
              "      <td>0</td>\n",
              "      <td>0</td>\n",
              "      <td>2.943359</td>\n",
              "    </tr>\n",
              "  </tbody>\n",
              "</table>\n",
              "</div>"
            ],
            "text/plain": [
              "                              id        item_id  ... snap_WI sell_price\n",
              "0  HOBBIES_1_001_CA_1_evaluation  HOBBIES_1_001  ...       0   8.281250\n",
              "1  HOBBIES_1_002_CA_1_evaluation  HOBBIES_1_002  ...       0   3.970703\n",
              "2  HOBBIES_1_003_CA_1_evaluation  HOBBIES_1_003  ...       0   2.970703\n",
              "3  HOBBIES_1_004_CA_1_evaluation  HOBBIES_1_004  ...       0   4.527344\n",
              "4  HOBBIES_1_005_CA_1_evaluation  HOBBIES_1_005  ...       0   2.943359\n",
              "\n",
              "[5 rows x 23 columns]"
            ]
          },
          "metadata": {
            "tags": []
          },
          "execution_count": 11
        }
      ]
    },
    {
      "cell_type": "code",
      "metadata": {
        "id": "Aa56jkB4l903"
      },
      "source": [
        "# we are remove 'd_' from day column \n",
        "data['day'] = data['day'].apply(lambda x: x.split('_')[1]).astype(int)\n",
        "\n",
        "#since weekday's are represented as wday with numbers and d is a duplicate column.\n",
        "data.drop(['d','weekday','date'], axis=1, inplace=True)"
      ],
      "execution_count": 12,
      "outputs": []
    },
    {
      "cell_type": "markdown",
      "metadata": {
        "id": "PR_BcRRAmDV6"
      },
      "source": [
        "# **Feature Engineering For Time Series data**"
      ]
    },
    {
      "cell_type": "markdown",
      "metadata": {
        "id": "ENWBCH0TmFwQ"
      },
      "source": [
        "**1. Feature 'is_weekend'**"
      ]
    },
    {
      "cell_type": "code",
      "metadata": {
        "colab": {
          "base_uri": "https://localhost:8080/",
          "height": 131
        },
        "id": "FAiKeXi2mIi3",
        "outputId": "dec2908f-dc20-4769-8d7a-f635b286e173"
      },
      "source": [
        "# 'is_weekend' feature to check weekend or not\n",
        "data['is_weekend'] = (data['wday']<=2).astype(np.int8)\n",
        "data.head(2)"
      ],
      "execution_count": 13,
      "outputs": [
        {
          "output_type": "execute_result",
          "data": {
            "text/html": [
              "<div>\n",
              "<style scoped>\n",
              "    .dataframe tbody tr th:only-of-type {\n",
              "        vertical-align: middle;\n",
              "    }\n",
              "\n",
              "    .dataframe tbody tr th {\n",
              "        vertical-align: top;\n",
              "    }\n",
              "\n",
              "    .dataframe thead th {\n",
              "        text-align: right;\n",
              "    }\n",
              "</style>\n",
              "<table border=\"1\" class=\"dataframe\">\n",
              "  <thead>\n",
              "    <tr style=\"text-align: right;\">\n",
              "      <th></th>\n",
              "      <th>id</th>\n",
              "      <th>item_id</th>\n",
              "      <th>dept_id</th>\n",
              "      <th>cat_id</th>\n",
              "      <th>store_id</th>\n",
              "      <th>state_id</th>\n",
              "      <th>day</th>\n",
              "      <th>sales</th>\n",
              "      <th>wm_yr_wk</th>\n",
              "      <th>wday</th>\n",
              "      <th>month</th>\n",
              "      <th>year</th>\n",
              "      <th>event_name_1</th>\n",
              "      <th>event_type_1</th>\n",
              "      <th>event_name_2</th>\n",
              "      <th>event_type_2</th>\n",
              "      <th>snap_CA</th>\n",
              "      <th>snap_TX</th>\n",
              "      <th>snap_WI</th>\n",
              "      <th>sell_price</th>\n",
              "      <th>is_weekend</th>\n",
              "    </tr>\n",
              "  </thead>\n",
              "  <tbody>\n",
              "    <tr>\n",
              "      <th>0</th>\n",
              "      <td>HOBBIES_1_001_CA_1_evaluation</td>\n",
              "      <td>HOBBIES_1_001</td>\n",
              "      <td>HOBBIES_1</td>\n",
              "      <td>HOBBIES</td>\n",
              "      <td>CA_1</td>\n",
              "      <td>CA</td>\n",
              "      <td>1</td>\n",
              "      <td>0</td>\n",
              "      <td>11101</td>\n",
              "      <td>1</td>\n",
              "      <td>1</td>\n",
              "      <td>2011</td>\n",
              "      <td>NaN</td>\n",
              "      <td>NaN</td>\n",
              "      <td>NaN</td>\n",
              "      <td>NaN</td>\n",
              "      <td>0</td>\n",
              "      <td>0</td>\n",
              "      <td>0</td>\n",
              "      <td>8.281250</td>\n",
              "      <td>1</td>\n",
              "    </tr>\n",
              "    <tr>\n",
              "      <th>1</th>\n",
              "      <td>HOBBIES_1_002_CA_1_evaluation</td>\n",
              "      <td>HOBBIES_1_002</td>\n",
              "      <td>HOBBIES_1</td>\n",
              "      <td>HOBBIES</td>\n",
              "      <td>CA_1</td>\n",
              "      <td>CA</td>\n",
              "      <td>1</td>\n",
              "      <td>0</td>\n",
              "      <td>11101</td>\n",
              "      <td>1</td>\n",
              "      <td>1</td>\n",
              "      <td>2011</td>\n",
              "      <td>NaN</td>\n",
              "      <td>NaN</td>\n",
              "      <td>NaN</td>\n",
              "      <td>NaN</td>\n",
              "      <td>0</td>\n",
              "      <td>0</td>\n",
              "      <td>0</td>\n",
              "      <td>3.970703</td>\n",
              "      <td>1</td>\n",
              "    </tr>\n",
              "  </tbody>\n",
              "</table>\n",
              "</div>"
            ],
            "text/plain": [
              "                              id        item_id  ... sell_price is_weekend\n",
              "0  HOBBIES_1_001_CA_1_evaluation  HOBBIES_1_001  ...   8.281250          1\n",
              "1  HOBBIES_1_002_CA_1_evaluation  HOBBIES_1_002  ...   3.970703          1\n",
              "\n",
              "[2 rows x 21 columns]"
            ]
          },
          "metadata": {
            "tags": []
          },
          "execution_count": 13
        }
      ]
    },
    {
      "cell_type": "markdown",
      "metadata": {
        "id": "CePjXkb4mOJ8"
      },
      "source": [
        "**2. Feature 'per_day_events'**  Total number of events in a day "
      ]
    },
    {
      "cell_type": "code",
      "metadata": {
        "id": "AbsQLjxFmyUe"
      },
      "source": [
        "cat=['event_name_1','event_type_1','event_name_2','event_type_2']\n",
        "for i in cat:\n",
        "  #https://stackoverflow.com/questions/53664948/pandas-fillna-throws-valueerror-fill-value-must-be-in-categories\n",
        "  data[i] = data[i].cat.add_categories('no_event')\n",
        "  data[i].fillna('no_event',inplace=True)"
      ],
      "execution_count": 14,
      "outputs": []
    },
    {
      "cell_type": "code",
      "metadata": {
        "id": "gcu-1jX-mNXG"
      },
      "source": [
        "# first we calculate event_type_1 if event then calcualte 1 otherwise 0\n",
        "data['per_day_events']=data['event_type_1'].map(lambda x: 0 if x=='no_event' else 1) \n",
        "# second we store only event_type_2 if the value is present \n",
        "non_zero_num = data.index[data['event_type_2']!='no_event'].tolist()\n",
        "\n",
        "# for loop \n",
        "for i in non_zero_num:\n",
        "  data['per_day_events'][i]+=1 \n",
        "#downcast the data type\n",
        "data['per_day_events']=data['per_day_events'].astype(np.int8)"
      ],
      "execution_count": 15,
      "outputs": []
    },
    {
      "cell_type": "markdown",
      "metadata": {
        "id": "jsTfh2shmV75"
      },
      "source": [
        "**3. Lag features**\n",
        "\n",
        "we are predicting the sales prices next day for walmart. So, the previous day’s sales price is important to make a prediction,In other words, the value at time t is greatly affected by the value at time t-1. The past values are known as lags, so t-1 is lag 1, t-2 is lag 2, and so on."
      ]
    },
    {
      "cell_type": "code",
      "metadata": {
        "colab": {
          "base_uri": "https://localhost:8080/"
        },
        "id": "KmM_RaL0mYT-",
        "outputId": "45fc1199-db01-4b63-a4b5-d02d66ee733e"
      },
      "source": [
        "#Calculating Leg features\n",
        "lags = [28,30,35,42,49,56]\n",
        "for lag in tqdm(lags):\n",
        "    data[\"lag_\" + str(lag)] = data.groupby(\"id\")[\"sales\"].shift(lag)"
      ],
      "execution_count": 16,
      "outputs": [
        {
          "output_type": "stream",
          "text": [
            "100%|██████████| 6/6 [00:15<00:00,  2.61s/it]\n"
          ],
          "name": "stderr"
        }
      ]
    },
    {
      "cell_type": "markdown",
      "metadata": {
        "id": "_C_9DxKQmcHa"
      },
      "source": [
        "**4. Rolling median features**"
      ]
    },
    {
      "cell_type": "code",
      "metadata": {
        "id": "RI_ey3YfmdMf"
      },
      "source": [
        "# Calculating Rolling Median features \n",
        "data['rolling_median_'+str(7)] = data.groupby(['id'])['sales'].transform(lambda x: x.rolling(7).median())\n",
        "data['rolling_median_'+str(14)] = data.groupby(['id'])['sales'].transform(lambda x: x.rolling(14).median())\n",
        "data['rolling_median_'+str(28)] = data.groupby(['id'])['sales'].transform(lambda x: x.rolling(28).median())"
      ],
      "execution_count": null,
      "outputs": []
    },
    {
      "cell_type": "markdown",
      "metadata": {
        "id": "pJGToxbRmhKt"
      },
      "source": [
        "**5. Rolling Window Statistics**\n",
        "\n",
        "How about calculating some statistical values based on past values? This method is called the rolling window method because the window would be different for every data point.\n",
        "\n",
        "I'll be calculating weekly rolling avearge of the items sold.\n",
        "\n",
        "![](https://cdn.analyticsvidhya.com/wp-content/uploads/2019/11/3hotmk.gif)\n",
        "\n",
        "\n"
      ]
    },
    {
      "cell_type": "code",
      "metadata": {
        "id": "V2ax_UDOmgzR"
      },
      "source": [
        "#calculateing rolling sold feature\n",
        "data['rolling_sold_mean'] = data.groupby(['id'])['sales'].transform(lambda x: x.rolling(window=7).mean()).astype(np.float16)"
      ],
      "execution_count": null,
      "outputs": []
    },
    {
      "cell_type": "markdown",
      "metadata": {
        "id": "wIdnaE1NmnOK"
      },
      "source": [
        "**6. Expanding Window Statistics**\n",
        "\n",
        "This is simply an advanced version of the rolling window technique. In the case of a rolling window, the size of the window is constant while the window slides as we move forward in time. Hence, we consider only the most recent values and ignore the past values. Here’s a gif that explains how our expanding window function works:\n",
        "![](https://cdn.analyticsvidhya.com/wp-content/uploads/2019/12/output_B4KHcT.gif)\n",
        "\n",
        "I'll be calculating expanding avearge of the items sold. More features like expanding min, max or sum can also be calculated. Also, same features can be calculated for revenue as well."
      ]
    },
    {
      "cell_type": "code",
      "metadata": {
        "id": "pKHTmLXxmqZX"
      },
      "source": [
        "#Calculate expending window feature\n",
        "data['expanding_sold_mean'] = data.groupby(['id'])['sales'].transform(lambda x: x.expanding(2).mean()).astype(np.float16)"
      ],
      "execution_count": null,
      "outputs": []
    },
    {
      "cell_type": "code",
      "metadata": {
        "id": "kQDZLjwpmsWt"
      },
      "source": [
        "data.head()"
      ],
      "execution_count": null,
      "outputs": []
    },
    {
      "cell_type": "code",
      "metadata": {
        "id": "LuTMpm2Bm3la"
      },
      "source": [
        "#filling all the nan values to zero\n",
        "feature_window = ['lag_28','lag_30','lag_35','lag_42','lag_49','lag_56','rolling_median_7','rolling_median_14','rolling_median_28','rolling_sold_mean','expanding_sold_mean']\n",
        "for i in feature_window:\n",
        "  data[i]=data[i].fillna(0) "
      ],
      "execution_count": 53,
      "outputs": []
    },
    {
      "cell_type": "markdown",
      "metadata": {
        "id": "Bfj0JTunm8BI"
      },
      "source": [
        "**Label-Encoding**"
      ]
    },
    {
      "cell_type": "code",
      "metadata": {
        "colab": {
          "base_uri": "https://localhost:8080/"
        },
        "id": "F0YEQdmim7Z_",
        "outputId": "8cced64a-4507-474d-8903-701a11dd1648"
      },
      "source": [
        "from sklearn.preprocessing import LabelEncoder\n",
        "labelencoder=LabelEncoder() \n",
        "category=['event_name_1','event_type_1','event_name_2','event_type_2','id','item_id','dept_id','cat_id','store_id','state_id']\n",
        "for i in tqdm(category):\n",
        "  labelencoder.fit(data[i].values.astype(str))\n",
        "  data[i] = labelencoder.fit_transform(data[i].values.astype(str))"
      ],
      "execution_count": 54,
      "outputs": [
        {
          "output_type": "stream",
          "text": [
            "\n",
            "  0%|          | 0/10 [00:00<?, ?it/s]\u001b[A\n",
            " 10%|█         | 1/10 [00:29<04:29, 29.96s/it]\u001b[A\n",
            " 20%|██        | 2/10 [01:00<03:59, 29.99s/it]\u001b[A\n",
            " 30%|███       | 3/10 [01:29<03:29, 29.96s/it]\u001b[A\n",
            " 40%|████      | 4/10 [01:49<02:40, 26.71s/it]\u001b[A\n",
            " 50%|█████     | 5/10 [02:13<02:10, 26.03s/it]\u001b[A\n",
            " 60%|██████    | 6/10 [02:36<01:40, 25.13s/it]\u001b[A\n",
            " 70%|███████   | 7/10 [02:55<01:09, 23.20s/it]\u001b[A\n",
            " 80%|████████  | 8/10 [03:14<00:43, 21.91s/it]\u001b[A\n",
            " 90%|█████████ | 9/10 [03:32<00:20, 20.92s/it]\u001b[A\n",
            "100%|██████████| 10/10 [03:52<00:00, 23.20s/it]\n"
          ],
          "name": "stderr"
        }
      ]
    },
    {
      "cell_type": "code",
      "metadata": {
        "colab": {
          "base_uri": "https://localhost:8080/",
          "height": 224
        },
        "id": "DqkyZ1X9nAgf",
        "outputId": "dc5a543e-47af-4617-fedc-35013c3b2dd8"
      },
      "source": [
        "data.head(5)"
      ],
      "execution_count": 55,
      "outputs": [
        {
          "output_type": "execute_result",
          "data": {
            "text/html": [
              "<div>\n",
              "<style scoped>\n",
              "    .dataframe tbody tr th:only-of-type {\n",
              "        vertical-align: middle;\n",
              "    }\n",
              "\n",
              "    .dataframe tbody tr th {\n",
              "        vertical-align: top;\n",
              "    }\n",
              "\n",
              "    .dataframe thead th {\n",
              "        text-align: right;\n",
              "    }\n",
              "</style>\n",
              "<table border=\"1\" class=\"dataframe\">\n",
              "  <thead>\n",
              "    <tr style=\"text-align: right;\">\n",
              "      <th></th>\n",
              "      <th>id</th>\n",
              "      <th>item_id</th>\n",
              "      <th>dept_id</th>\n",
              "      <th>cat_id</th>\n",
              "      <th>store_id</th>\n",
              "      <th>state_id</th>\n",
              "      <th>day</th>\n",
              "      <th>sales</th>\n",
              "      <th>wm_yr_wk</th>\n",
              "      <th>wday</th>\n",
              "      <th>month</th>\n",
              "      <th>year</th>\n",
              "      <th>event_name_1</th>\n",
              "      <th>event_type_1</th>\n",
              "      <th>event_name_2</th>\n",
              "      <th>event_type_2</th>\n",
              "      <th>snap_CA</th>\n",
              "      <th>snap_TX</th>\n",
              "      <th>snap_WI</th>\n",
              "      <th>sell_price</th>\n",
              "      <th>lag_28</th>\n",
              "      <th>lag_30</th>\n",
              "      <th>lag_35</th>\n",
              "      <th>lag_42</th>\n",
              "      <th>lag_49</th>\n",
              "      <th>lag_56</th>\n",
              "      <th>rolling_median_7</th>\n",
              "      <th>rolling_median_14</th>\n",
              "      <th>rolling_median_28</th>\n",
              "      <th>rolling_sold_mean</th>\n",
              "      <th>expanding_sold_mean</th>\n",
              "      <th>is_weekend</th>\n",
              "      <th>per_day_events</th>\n",
              "    </tr>\n",
              "  </thead>\n",
              "  <tbody>\n",
              "    <tr>\n",
              "      <th>45735000</th>\n",
              "      <td>4859</td>\n",
              "      <td>488</td>\n",
              "      <td>3</td>\n",
              "      <td>1</td>\n",
              "      <td>0</td>\n",
              "      <td>0</td>\n",
              "      <td>1501</td>\n",
              "      <td>0</td>\n",
              "      <td>11506</td>\n",
              "      <td>3</td>\n",
              "      <td>3</td>\n",
              "      <td>2015</td>\n",
              "      <td>17</td>\n",
              "      <td>4</td>\n",
              "      <td>0</td>\n",
              "      <td>0</td>\n",
              "      <td>1</td>\n",
              "      <td>1</td>\n",
              "      <td>1</td>\n",
              "      <td>8.257812</td>\n",
              "      <td>0.0</td>\n",
              "      <td>2.0</td>\n",
              "      <td>0.0</td>\n",
              "      <td>1.0</td>\n",
              "      <td>1.0</td>\n",
              "      <td>2.0</td>\n",
              "      <td>0.0</td>\n",
              "      <td>0.5</td>\n",
              "      <td>0.0</td>\n",
              "      <td>0.714355</td>\n",
              "      <td>0.209839</td>\n",
              "      <td>0</td>\n",
              "      <td>0</td>\n",
              "    </tr>\n",
              "    <tr>\n",
              "      <th>45735001</th>\n",
              "      <td>4870</td>\n",
              "      <td>489</td>\n",
              "      <td>3</td>\n",
              "      <td>1</td>\n",
              "      <td>0</td>\n",
              "      <td>0</td>\n",
              "      <td>1501</td>\n",
              "      <td>1</td>\n",
              "      <td>11506</td>\n",
              "      <td>3</td>\n",
              "      <td>3</td>\n",
              "      <td>2015</td>\n",
              "      <td>17</td>\n",
              "      <td>4</td>\n",
              "      <td>0</td>\n",
              "      <td>0</td>\n",
              "      <td>1</td>\n",
              "      <td>1</td>\n",
              "      <td>1</td>\n",
              "      <td>3.970703</td>\n",
              "      <td>0.0</td>\n",
              "      <td>0.0</td>\n",
              "      <td>0.0</td>\n",
              "      <td>0.0</td>\n",
              "      <td>0.0</td>\n",
              "      <td>2.0</td>\n",
              "      <td>0.0</td>\n",
              "      <td>0.0</td>\n",
              "      <td>0.0</td>\n",
              "      <td>0.285645</td>\n",
              "      <td>0.239868</td>\n",
              "      <td>0</td>\n",
              "      <td>0</td>\n",
              "    </tr>\n",
              "    <tr>\n",
              "      <th>45735002</th>\n",
              "      <td>4881</td>\n",
              "      <td>490</td>\n",
              "      <td>3</td>\n",
              "      <td>1</td>\n",
              "      <td>0</td>\n",
              "      <td>0</td>\n",
              "      <td>1501</td>\n",
              "      <td>0</td>\n",
              "      <td>11506</td>\n",
              "      <td>3</td>\n",
              "      <td>3</td>\n",
              "      <td>2015</td>\n",
              "      <td>17</td>\n",
              "      <td>4</td>\n",
              "      <td>0</td>\n",
              "      <td>0</td>\n",
              "      <td>1</td>\n",
              "      <td>1</td>\n",
              "      <td>1</td>\n",
              "      <td>2.970703</td>\n",
              "      <td>1.0</td>\n",
              "      <td>0.0</td>\n",
              "      <td>0.0</td>\n",
              "      <td>1.0</td>\n",
              "      <td>0.0</td>\n",
              "      <td>1.0</td>\n",
              "      <td>0.0</td>\n",
              "      <td>0.0</td>\n",
              "      <td>0.0</td>\n",
              "      <td>0.142822</td>\n",
              "      <td>0.055298</td>\n",
              "      <td>0</td>\n",
              "      <td>0</td>\n",
              "    </tr>\n",
              "    <tr>\n",
              "      <th>45735003</th>\n",
              "      <td>4893</td>\n",
              "      <td>492</td>\n",
              "      <td>3</td>\n",
              "      <td>1</td>\n",
              "      <td>0</td>\n",
              "      <td>0</td>\n",
              "      <td>1501</td>\n",
              "      <td>1</td>\n",
              "      <td>11506</td>\n",
              "      <td>3</td>\n",
              "      <td>3</td>\n",
              "      <td>2015</td>\n",
              "      <td>17</td>\n",
              "      <td>4</td>\n",
              "      <td>0</td>\n",
              "      <td>0</td>\n",
              "      <td>1</td>\n",
              "      <td>1</td>\n",
              "      <td>1</td>\n",
              "      <td>4.640625</td>\n",
              "      <td>0.0</td>\n",
              "      <td>10.0</td>\n",
              "      <td>0.0</td>\n",
              "      <td>3.0</td>\n",
              "      <td>8.0</td>\n",
              "      <td>2.0</td>\n",
              "      <td>2.0</td>\n",
              "      <td>1.0</td>\n",
              "      <td>1.5</td>\n",
              "      <td>2.857422</td>\n",
              "      <td>1.638672</td>\n",
              "      <td>0</td>\n",
              "      <td>0</td>\n",
              "    </tr>\n",
              "    <tr>\n",
              "      <th>45735004</th>\n",
              "      <td>4904</td>\n",
              "      <td>493</td>\n",
              "      <td>3</td>\n",
              "      <td>1</td>\n",
              "      <td>0</td>\n",
              "      <td>0</td>\n",
              "      <td>1501</td>\n",
              "      <td>1</td>\n",
              "      <td>11506</td>\n",
              "      <td>3</td>\n",
              "      <td>3</td>\n",
              "      <td>2015</td>\n",
              "      <td>17</td>\n",
              "      <td>4</td>\n",
              "      <td>0</td>\n",
              "      <td>0</td>\n",
              "      <td>1</td>\n",
              "      <td>1</td>\n",
              "      <td>1</td>\n",
              "      <td>2.880859</td>\n",
              "      <td>0.0</td>\n",
              "      <td>5.0</td>\n",
              "      <td>1.0</td>\n",
              "      <td>0.0</td>\n",
              "      <td>1.0</td>\n",
              "      <td>0.0</td>\n",
              "      <td>1.0</td>\n",
              "      <td>1.0</td>\n",
              "      <td>1.0</td>\n",
              "      <td>1.428711</td>\n",
              "      <td>0.919434</td>\n",
              "      <td>0</td>\n",
              "      <td>0</td>\n",
              "    </tr>\n",
              "  </tbody>\n",
              "</table>\n",
              "</div>"
            ],
            "text/plain": [
              "            id  item_id  ...  is_weekend  per_day_events\n",
              "45735000  4859      488  ...           0               0\n",
              "45735001  4870      489  ...           0               0\n",
              "45735002  4881      490  ...           0               0\n",
              "45735003  4893      492  ...           0               0\n",
              "45735004  4904      493  ...           0               0\n",
              "\n",
              "[5 rows x 33 columns]"
            ]
          },
          "metadata": {
            "tags": []
          },
          "execution_count": 55
        }
      ]
    },
    {
      "cell_type": "code",
      "metadata": {
        "colab": {
          "base_uri": "https://localhost:8080/"
        },
        "id": "w9puiwB3nEHO",
        "outputId": "9f4607f3-1a23-4598-be00-7e5507ddc770"
      },
      "source": [
        "data.info()"
      ],
      "execution_count": 56,
      "outputs": [
        {
          "output_type": "stream",
          "text": [
            "<class 'pandas.core.frame.DataFrame'>\n",
            "Int64Index: 13446090 entries, 45735000 to 59181089\n",
            "Data columns (total 33 columns):\n",
            " #   Column               Dtype  \n",
            "---  ------               -----  \n",
            " 0   id                   int64  \n",
            " 1   item_id              int64  \n",
            " 2   dept_id              int64  \n",
            " 3   cat_id               int64  \n",
            " 4   store_id             int64  \n",
            " 5   state_id             int64  \n",
            " 6   day                  int16  \n",
            " 7   sales                int16  \n",
            " 8   wm_yr_wk             int16  \n",
            " 9   wday                 int8   \n",
            " 10  month                int8   \n",
            " 11  year                 int16  \n",
            " 12  event_name_1         int64  \n",
            " 13  event_type_1         int64  \n",
            " 14  event_name_2         int64  \n",
            " 15  event_type_2         int64  \n",
            " 16  snap_CA              int8   \n",
            " 17  snap_TX              int8   \n",
            " 18  snap_WI              int8   \n",
            " 19  sell_price           float16\n",
            " 20  lag_28               float16\n",
            " 21  lag_30               float16\n",
            " 22  lag_35               float16\n",
            " 23  lag_42               float16\n",
            " 24  lag_49               float16\n",
            " 25  lag_56               float16\n",
            " 26  rolling_median_7     float16\n",
            " 27  rolling_median_14    float16\n",
            " 28  rolling_median_28    float16\n",
            " 29  rolling_sold_mean    float16\n",
            " 30  expanding_sold_mean  float16\n",
            " 31  is_weekend           int8   \n",
            " 32  per_day_events       int8   \n",
            "dtypes: float16(12), int16(4), int64(10), int8(7)\n",
            "memory usage: 1.6 GB\n"
          ],
          "name": "stdout"
        }
      ]
    },
    {
      "cell_type": "code",
      "metadata": {
        "id": "__WLBZ4lnI3r"
      },
      "source": [
        "# Save the file so no need to run merge code again\n",
        "with open('/content/gdrive/MyDrive/m5-accuracy/MODEL_DATA.pkl', 'wb') as f:\n",
        "    pickle.dump(data, f)"
      ],
      "execution_count": null,
      "outputs": []
    },
    {
      "cell_type": "code",
      "metadata": {
        "id": "LlFN3J07mWgR",
        "colab": {
          "base_uri": "https://localhost:8080/",
          "height": 224
        },
        "outputId": "c3295ff4-d32a-4175-b610-cddc3041cb3d"
      },
      "source": [
        "# Read save data file\n",
        "data = pd.read_pickle(\"/content/gdrive/MyDrive/m5-accuracy/MODEL_DATA.pkl\")\n",
        "data.head()"
      ],
      "execution_count": 63,
      "outputs": [
        {
          "output_type": "execute_result",
          "data": {
            "text/html": [
              "<div>\n",
              "<style scoped>\n",
              "    .dataframe tbody tr th:only-of-type {\n",
              "        vertical-align: middle;\n",
              "    }\n",
              "\n",
              "    .dataframe tbody tr th {\n",
              "        vertical-align: top;\n",
              "    }\n",
              "\n",
              "    .dataframe thead th {\n",
              "        text-align: right;\n",
              "    }\n",
              "</style>\n",
              "<table border=\"1\" class=\"dataframe\">\n",
              "  <thead>\n",
              "    <tr style=\"text-align: right;\">\n",
              "      <th></th>\n",
              "      <th>id</th>\n",
              "      <th>item_id</th>\n",
              "      <th>dept_id</th>\n",
              "      <th>cat_id</th>\n",
              "      <th>store_id</th>\n",
              "      <th>state_id</th>\n",
              "      <th>day</th>\n",
              "      <th>sales</th>\n",
              "      <th>wm_yr_wk</th>\n",
              "      <th>wday</th>\n",
              "      <th>month</th>\n",
              "      <th>year</th>\n",
              "      <th>event_name_1</th>\n",
              "      <th>event_type_1</th>\n",
              "      <th>event_name_2</th>\n",
              "      <th>event_type_2</th>\n",
              "      <th>snap_CA</th>\n",
              "      <th>snap_TX</th>\n",
              "      <th>snap_WI</th>\n",
              "      <th>sell_price</th>\n",
              "      <th>lag_28</th>\n",
              "      <th>lag_30</th>\n",
              "      <th>lag_35</th>\n",
              "      <th>lag_42</th>\n",
              "      <th>lag_49</th>\n",
              "      <th>lag_56</th>\n",
              "      <th>rolling_median_7</th>\n",
              "      <th>rolling_median_14</th>\n",
              "      <th>rolling_median_28</th>\n",
              "      <th>rolling_sold_mean</th>\n",
              "      <th>expanding_sold_mean</th>\n",
              "      <th>is_weekend</th>\n",
              "      <th>per_day_events</th>\n",
              "    </tr>\n",
              "  </thead>\n",
              "  <tbody>\n",
              "    <tr>\n",
              "      <th>0</th>\n",
              "      <td>14370</td>\n",
              "      <td>1437</td>\n",
              "      <td>3</td>\n",
              "      <td>1</td>\n",
              "      <td>0</td>\n",
              "      <td>0</td>\n",
              "      <td>1</td>\n",
              "      <td>0</td>\n",
              "      <td>11101</td>\n",
              "      <td>1</td>\n",
              "      <td>1</td>\n",
              "      <td>2011</td>\n",
              "      <td>30</td>\n",
              "      <td>4</td>\n",
              "      <td>4</td>\n",
              "      <td>2</td>\n",
              "      <td>0</td>\n",
              "      <td>0</td>\n",
              "      <td>0</td>\n",
              "      <td>8.281250</td>\n",
              "      <td>0.0</td>\n",
              "      <td>0.0</td>\n",
              "      <td>0.0</td>\n",
              "      <td>0.0</td>\n",
              "      <td>0.0</td>\n",
              "      <td>0.0</td>\n",
              "      <td>0.0</td>\n",
              "      <td>0.0</td>\n",
              "      <td>0.0</td>\n",
              "      <td>0.0</td>\n",
              "      <td>0.0</td>\n",
              "      <td>1</td>\n",
              "      <td>0</td>\n",
              "    </tr>\n",
              "    <tr>\n",
              "      <th>1</th>\n",
              "      <td>14380</td>\n",
              "      <td>1438</td>\n",
              "      <td>3</td>\n",
              "      <td>1</td>\n",
              "      <td>0</td>\n",
              "      <td>0</td>\n",
              "      <td>1</td>\n",
              "      <td>0</td>\n",
              "      <td>11101</td>\n",
              "      <td>1</td>\n",
              "      <td>1</td>\n",
              "      <td>2011</td>\n",
              "      <td>30</td>\n",
              "      <td>4</td>\n",
              "      <td>4</td>\n",
              "      <td>2</td>\n",
              "      <td>0</td>\n",
              "      <td>0</td>\n",
              "      <td>0</td>\n",
              "      <td>3.970703</td>\n",
              "      <td>0.0</td>\n",
              "      <td>0.0</td>\n",
              "      <td>0.0</td>\n",
              "      <td>0.0</td>\n",
              "      <td>0.0</td>\n",
              "      <td>0.0</td>\n",
              "      <td>0.0</td>\n",
              "      <td>0.0</td>\n",
              "      <td>0.0</td>\n",
              "      <td>0.0</td>\n",
              "      <td>0.0</td>\n",
              "      <td>1</td>\n",
              "      <td>0</td>\n",
              "    </tr>\n",
              "    <tr>\n",
              "      <th>2</th>\n",
              "      <td>14390</td>\n",
              "      <td>1439</td>\n",
              "      <td>3</td>\n",
              "      <td>1</td>\n",
              "      <td>0</td>\n",
              "      <td>0</td>\n",
              "      <td>1</td>\n",
              "      <td>0</td>\n",
              "      <td>11101</td>\n",
              "      <td>1</td>\n",
              "      <td>1</td>\n",
              "      <td>2011</td>\n",
              "      <td>30</td>\n",
              "      <td>4</td>\n",
              "      <td>4</td>\n",
              "      <td>2</td>\n",
              "      <td>0</td>\n",
              "      <td>0</td>\n",
              "      <td>0</td>\n",
              "      <td>2.970703</td>\n",
              "      <td>0.0</td>\n",
              "      <td>0.0</td>\n",
              "      <td>0.0</td>\n",
              "      <td>0.0</td>\n",
              "      <td>0.0</td>\n",
              "      <td>0.0</td>\n",
              "      <td>0.0</td>\n",
              "      <td>0.0</td>\n",
              "      <td>0.0</td>\n",
              "      <td>0.0</td>\n",
              "      <td>0.0</td>\n",
              "      <td>1</td>\n",
              "      <td>0</td>\n",
              "    </tr>\n",
              "    <tr>\n",
              "      <th>3</th>\n",
              "      <td>14400</td>\n",
              "      <td>1440</td>\n",
              "      <td>3</td>\n",
              "      <td>1</td>\n",
              "      <td>0</td>\n",
              "      <td>0</td>\n",
              "      <td>1</td>\n",
              "      <td>0</td>\n",
              "      <td>11101</td>\n",
              "      <td>1</td>\n",
              "      <td>1</td>\n",
              "      <td>2011</td>\n",
              "      <td>30</td>\n",
              "      <td>4</td>\n",
              "      <td>4</td>\n",
              "      <td>2</td>\n",
              "      <td>0</td>\n",
              "      <td>0</td>\n",
              "      <td>0</td>\n",
              "      <td>4.527344</td>\n",
              "      <td>0.0</td>\n",
              "      <td>0.0</td>\n",
              "      <td>0.0</td>\n",
              "      <td>0.0</td>\n",
              "      <td>0.0</td>\n",
              "      <td>0.0</td>\n",
              "      <td>0.0</td>\n",
              "      <td>0.0</td>\n",
              "      <td>0.0</td>\n",
              "      <td>0.0</td>\n",
              "      <td>0.0</td>\n",
              "      <td>1</td>\n",
              "      <td>0</td>\n",
              "    </tr>\n",
              "    <tr>\n",
              "      <th>4</th>\n",
              "      <td>14410</td>\n",
              "      <td>1441</td>\n",
              "      <td>3</td>\n",
              "      <td>1</td>\n",
              "      <td>0</td>\n",
              "      <td>0</td>\n",
              "      <td>1</td>\n",
              "      <td>0</td>\n",
              "      <td>11101</td>\n",
              "      <td>1</td>\n",
              "      <td>1</td>\n",
              "      <td>2011</td>\n",
              "      <td>30</td>\n",
              "      <td>4</td>\n",
              "      <td>4</td>\n",
              "      <td>2</td>\n",
              "      <td>0</td>\n",
              "      <td>0</td>\n",
              "      <td>0</td>\n",
              "      <td>2.943359</td>\n",
              "      <td>0.0</td>\n",
              "      <td>0.0</td>\n",
              "      <td>0.0</td>\n",
              "      <td>0.0</td>\n",
              "      <td>0.0</td>\n",
              "      <td>0.0</td>\n",
              "      <td>0.0</td>\n",
              "      <td>0.0</td>\n",
              "      <td>0.0</td>\n",
              "      <td>0.0</td>\n",
              "      <td>0.0</td>\n",
              "      <td>1</td>\n",
              "      <td>0</td>\n",
              "    </tr>\n",
              "  </tbody>\n",
              "</table>\n",
              "</div>"
            ],
            "text/plain": [
              "      id  item_id  dept_id  ...  expanding_sold_mean  is_weekend  per_day_events\n",
              "0  14370     1437        3  ...                  0.0           1               0\n",
              "1  14380     1438        3  ...                  0.0           1               0\n",
              "2  14390     1439        3  ...                  0.0           1               0\n",
              "3  14400     1440        3  ...                  0.0           1               0\n",
              "4  14410     1441        3  ...                  0.0           1               0\n",
              "\n",
              "[5 rows x 33 columns]"
            ]
          },
          "metadata": {
            "tags": []
          },
          "execution_count": 63
        }
      ]
    },
    {
      "cell_type": "markdown",
      "metadata": {
        "id": "O7XktlEoo1l-"
      },
      "source": [
        "# **MODELS**"
      ]
    },
    {
      "cell_type": "markdown",
      "metadata": {
        "id": "Go48UsK0U1KO"
      },
      "source": [
        "**Performance Matrix** "
      ]
    },
    {
      "cell_type": "code",
      "metadata": {
        "id": "Oo81C1TLqH5G"
      },
      "source": [
        "def rmse(pred,value):\n",
        "    return np.sqrt(((pred-value)**2).mean())"
      ],
      "execution_count": 64,
      "outputs": []
    },
    {
      "cell_type": "markdown",
      "metadata": {
        "id": "9b_SJv6uVgzo"
      },
      "source": [
        "Taken data after 1000 days (because of less memory )"
      ]
    },
    {
      "cell_type": "code",
      "metadata": {
        "id": "9xdgT1U_xVkc"
      },
      "source": [
        "data = data[data['day']>1000]"
      ],
      "execution_count": 65,
      "outputs": []
    },
    {
      "cell_type": "markdown",
      "metadata": {
        "id": "QSRLPD2nUxjI"
      },
      "source": [
        "# **Train, Test, Cross Validation for the model**"
      ]
    },
    {
      "cell_type": "code",
      "metadata": {
        "id": "KFBf35Fasm_q"
      },
      "source": [
        "\n",
        "# Now we are splitting our data into, Train, Test, Cross Validate.\n",
        "# Being a time series model, we are splitting the data based on time.\n",
        "\n",
        "def train_val_test_split(data):\n",
        "    '''\n",
        "    This function is used to split the dataset into train,validation and test dataset\n",
        "    Parameters:\n",
        "    1.data : dataset need to be split\n",
        "    \n",
        "    Returns:\n",
        "    train dataset,validation dataset,test dataset\n",
        "    '''\n",
        "    \n",
        "    #Product details upto day 1913 is used as training dataset\n",
        "    Xtrain = data[data['day']<=1913]\n",
        "    ytrain = Xtrain['sales']\n",
        "    Xtrain.drop('sales',axis = 1,inplace = True)\n",
        "    \n",
        "    Xval = data[(data['day']>=1914) & (data['day']>1913)]\n",
        "    yval = Xval['sales']\n",
        "    Xval.drop(['sales'],axis = 1,inplace = True)\n",
        "    \n",
        "    Xtest = data[(data['day']>=1914)]\n",
        "    Xtest.drop(['sales'],axis = 1,inplace = True)\n",
        "    \n",
        "    print(\"Train dataset\",Xtrain.shape,ytrain.shape)\n",
        "    print(\"Validation dataset\",Xval.shape,yval.shape)\n",
        "    print(\"Test dataset\",Xtest.shape)\n",
        "    return(Xtrain,ytrain,Xval,yval,Xtest)"
      ],
      "execution_count": 71,
      "outputs": []
    },
    {
      "cell_type": "code",
      "metadata": {
        "colab": {
          "base_uri": "https://localhost:8080/"
        },
        "id": "cfZEnORustOr",
        "outputId": "d27f0702-aa63-49aa-9665-e7a90f5f9df8"
      },
      "source": [
        "Xtrain,ytrain,Xval,yval,Xtest=train_val_test_split(data)"
      ],
      "execution_count": 72,
      "outputs": [
        {
          "output_type": "stream",
          "text": [
            "Train dataset (27837370, 32) (27837370,)\n",
            "Validation dataset (853720, 32) (853720,)\n",
            "Test dataset (853720, 32)\n"
          ],
          "name": "stdout"
        }
      ]
    },
    {
      "cell_type": "code",
      "metadata": {
        "id": "m6f-MBwW7Zah"
      },
      "source": [
        "def generate_submission_file(model,Xtest,file_name):\n",
        "\n",
        "  sale_evl = pd.DataFrame()\n",
        "  sale_val = pd.DataFrame()\n",
        "  sale_evl['id'] = sales_evaluation['id'] \n",
        "  count = 1\n",
        "  \n",
        "  for i in range(1914,1942):\n",
        "    sale_evl['F'+str(count)]=model.predict(Xtest[Xtest['day']==(i)]) \n",
        "    count += 1\n",
        "\n",
        "  sale_evl[\"id\"] = sale_evl[\"id\"].apply(lambda x: x.replace('evaluation','validation'))\n",
        "  sale_val = sale_evl.copy()\n",
        "\n",
        "  sale_val[\"id\"] = sale_evl[\"id\"].apply(lambda x: x.replace('validation','evaluation'))\n",
        "  submission = pd.concat([sale_evl,sale_val]).reset_index().drop(['index'],axis=1)\n",
        "\n",
        "  submission.to_csv(file_name,index = False)\n",
        "  print(\"Submission file with name \"+file_name+\" created successfully\")\n"
      ],
      "execution_count": 73,
      "outputs": []
    },
    {
      "cell_type": "markdown",
      "metadata": {
        "id": "AhZUM5-xpAik"
      },
      "source": [
        "# **1.LINEAR REGRESSION**\n",
        "\n",
        "\n"
      ]
    },
    {
      "cell_type": "code",
      "metadata": {
        "colab": {
          "base_uri": "https://localhost:8080/"
        },
        "id": "gCi1HH4Z5CKR",
        "outputId": "e6ae942b-6aa9-45e9-c685-28face2b73f7"
      },
      "source": [
        "model = LinearRegression(n_jobs=-1)\n",
        "model.fit(Xtrain,ytrain)\n",
        "\n",
        "ypred = model.predict(Xval)\n",
        "\n",
        "print(\"Rmse: {}\".format(rmse(ypred,yval)))"
      ],
      "execution_count": 74,
      "outputs": [
        {
          "output_type": "stream",
          "text": [
            "Rmse: 1.8061939243997174\n"
          ],
          "name": "stdout"
        }
      ]
    },
    {
      "cell_type": "code",
      "metadata": {
        "id": "qsX5XkPY7ezP",
        "colab": {
          "base_uri": "https://localhost:8080/"
        },
        "outputId": "f010cce2-533c-4075-d8ce-8728be18baaa"
      },
      "source": [
        "generate_submission_file(model,Xtest,\"linear_regression.csv\")"
      ],
      "execution_count": 75,
      "outputs": [
        {
          "output_type": "stream",
          "text": [
            "Submission file with name linear_regression.csv created successfully\n"
          ],
          "name": "stdout"
        }
      ]
    },
    {
      "cell_type": "code",
      "metadata": {
        "colab": {
          "base_uri": "https://localhost:8080/",
          "height": 224
        },
        "id": "SsMd1bwkw6BV",
        "outputId": "8182b070-f0b1-44f7-c804-2cd03490ce4f"
      },
      "source": [
        "predict_data = pd.read_csv('linear_regression.csv')\n",
        "predict_data.head()"
      ],
      "execution_count": 76,
      "outputs": [
        {
          "output_type": "execute_result",
          "data": {
            "text/html": [
              "<div>\n",
              "<style scoped>\n",
              "    .dataframe tbody tr th:only-of-type {\n",
              "        vertical-align: middle;\n",
              "    }\n",
              "\n",
              "    .dataframe tbody tr th {\n",
              "        vertical-align: top;\n",
              "    }\n",
              "\n",
              "    .dataframe thead th {\n",
              "        text-align: right;\n",
              "    }\n",
              "</style>\n",
              "<table border=\"1\" class=\"dataframe\">\n",
              "  <thead>\n",
              "    <tr style=\"text-align: right;\">\n",
              "      <th></th>\n",
              "      <th>id</th>\n",
              "      <th>F1</th>\n",
              "      <th>F2</th>\n",
              "      <th>F3</th>\n",
              "      <th>F4</th>\n",
              "      <th>F5</th>\n",
              "      <th>F6</th>\n",
              "      <th>F7</th>\n",
              "      <th>F8</th>\n",
              "      <th>F9</th>\n",
              "      <th>F10</th>\n",
              "      <th>F11</th>\n",
              "      <th>F12</th>\n",
              "      <th>F13</th>\n",
              "      <th>F14</th>\n",
              "      <th>F15</th>\n",
              "      <th>F16</th>\n",
              "      <th>F17</th>\n",
              "      <th>F18</th>\n",
              "      <th>F19</th>\n",
              "      <th>F20</th>\n",
              "      <th>F21</th>\n",
              "      <th>F22</th>\n",
              "      <th>F23</th>\n",
              "      <th>F24</th>\n",
              "      <th>F25</th>\n",
              "      <th>F26</th>\n",
              "      <th>F27</th>\n",
              "      <th>F28</th>\n",
              "    </tr>\n",
              "  </thead>\n",
              "  <tbody>\n",
              "    <tr>\n",
              "      <th>0</th>\n",
              "      <td>HOBBIES_1_001_CA_1_validation</td>\n",
              "      <td>0.772858</td>\n",
              "      <td>0.662628</td>\n",
              "      <td>0.501465</td>\n",
              "      <td>0.367798</td>\n",
              "      <td>0.482208</td>\n",
              "      <td>0.898163</td>\n",
              "      <td>1.700470</td>\n",
              "      <td>1.343292</td>\n",
              "      <td>1.635773</td>\n",
              "      <td>1.697846</td>\n",
              "      <td>1.276062</td>\n",
              "      <td>1.494476</td>\n",
              "      <td>1.479492</td>\n",
              "      <td>0.971741</td>\n",
              "      <td>0.825195</td>\n",
              "      <td>1.174530</td>\n",
              "      <td>1.231323</td>\n",
              "      <td>1.086975</td>\n",
              "      <td>1.373291</td>\n",
              "      <td>2.006104</td>\n",
              "      <td>1.822846</td>\n",
              "      <td>1.045288</td>\n",
              "      <td>0.956818</td>\n",
              "      <td>0.716156</td>\n",
              "      <td>1.272980</td>\n",
              "      <td>1.156006</td>\n",
              "      <td>0.943054</td>\n",
              "      <td>1.205566</td>\n",
              "    </tr>\n",
              "    <tr>\n",
              "      <th>1</th>\n",
              "      <td>HOBBIES_1_002_CA_1_validation</td>\n",
              "      <td>0.036743</td>\n",
              "      <td>0.121613</td>\n",
              "      <td>-0.037231</td>\n",
              "      <td>0.076385</td>\n",
              "      <td>0.022705</td>\n",
              "      <td>0.295349</td>\n",
              "      <td>0.348785</td>\n",
              "      <td>0.107208</td>\n",
              "      <td>-0.079163</td>\n",
              "      <td>0.035400</td>\n",
              "      <td>-0.026123</td>\n",
              "      <td>0.098816</td>\n",
              "      <td>0.395660</td>\n",
              "      <td>0.255280</td>\n",
              "      <td>0.097443</td>\n",
              "      <td>0.032806</td>\n",
              "      <td>-0.106903</td>\n",
              "      <td>-0.081177</td>\n",
              "      <td>-0.104706</td>\n",
              "      <td>0.349670</td>\n",
              "      <td>0.686249</td>\n",
              "      <td>0.507385</td>\n",
              "      <td>0.614136</td>\n",
              "      <td>0.660583</td>\n",
              "      <td>0.640289</td>\n",
              "      <td>0.600128</td>\n",
              "      <td>0.799591</td>\n",
              "      <td>0.482422</td>\n",
              "    </tr>\n",
              "    <tr>\n",
              "      <th>2</th>\n",
              "      <td>HOBBIES_1_003_CA_1_validation</td>\n",
              "      <td>0.399353</td>\n",
              "      <td>0.306274</td>\n",
              "      <td>0.254852</td>\n",
              "      <td>0.414581</td>\n",
              "      <td>0.297150</td>\n",
              "      <td>0.870056</td>\n",
              "      <td>0.813324</td>\n",
              "      <td>0.498657</td>\n",
              "      <td>0.505768</td>\n",
              "      <td>0.413086</td>\n",
              "      <td>0.192169</td>\n",
              "      <td>0.661377</td>\n",
              "      <td>0.733460</td>\n",
              "      <td>0.976807</td>\n",
              "      <td>0.771088</td>\n",
              "      <td>0.727295</td>\n",
              "      <td>0.926117</td>\n",
              "      <td>1.092072</td>\n",
              "      <td>0.803741</td>\n",
              "      <td>0.951813</td>\n",
              "      <td>0.854462</td>\n",
              "      <td>0.489349</td>\n",
              "      <td>0.447723</td>\n",
              "      <td>0.348145</td>\n",
              "      <td>0.562225</td>\n",
              "      <td>0.931854</td>\n",
              "      <td>1.341065</td>\n",
              "      <td>1.162140</td>\n",
              "    </tr>\n",
              "    <tr>\n",
              "      <th>3</th>\n",
              "      <td>HOBBIES_1_004_CA_1_validation</td>\n",
              "      <td>1.818298</td>\n",
              "      <td>1.482391</td>\n",
              "      <td>1.915588</td>\n",
              "      <td>2.159760</td>\n",
              "      <td>2.249115</td>\n",
              "      <td>1.613831</td>\n",
              "      <td>2.340881</td>\n",
              "      <td>2.652527</td>\n",
              "      <td>2.529724</td>\n",
              "      <td>2.312500</td>\n",
              "      <td>1.879578</td>\n",
              "      <td>1.873352</td>\n",
              "      <td>2.514465</td>\n",
              "      <td>1.978851</td>\n",
              "      <td>1.152496</td>\n",
              "      <td>1.094757</td>\n",
              "      <td>1.528412</td>\n",
              "      <td>1.810608</td>\n",
              "      <td>1.679474</td>\n",
              "      <td>2.013824</td>\n",
              "      <td>1.567535</td>\n",
              "      <td>1.402252</td>\n",
              "      <td>0.821442</td>\n",
              "      <td>0.888916</td>\n",
              "      <td>1.343170</td>\n",
              "      <td>1.324097</td>\n",
              "      <td>2.074554</td>\n",
              "      <td>2.793854</td>\n",
              "    </tr>\n",
              "    <tr>\n",
              "      <th>4</th>\n",
              "      <td>HOBBIES_1_005_CA_1_validation</td>\n",
              "      <td>1.861023</td>\n",
              "      <td>1.655335</td>\n",
              "      <td>1.893066</td>\n",
              "      <td>1.897125</td>\n",
              "      <td>1.631226</td>\n",
              "      <td>1.586517</td>\n",
              "      <td>1.655335</td>\n",
              "      <td>1.321533</td>\n",
              "      <td>1.690918</td>\n",
              "      <td>1.643219</td>\n",
              "      <td>1.174744</td>\n",
              "      <td>1.688202</td>\n",
              "      <td>2.221710</td>\n",
              "      <td>2.212128</td>\n",
              "      <td>2.025940</td>\n",
              "      <td>1.730774</td>\n",
              "      <td>1.924652</td>\n",
              "      <td>2.129669</td>\n",
              "      <td>1.615814</td>\n",
              "      <td>1.562164</td>\n",
              "      <td>1.129059</td>\n",
              "      <td>0.748474</td>\n",
              "      <td>0.642365</td>\n",
              "      <td>0.440979</td>\n",
              "      <td>0.124207</td>\n",
              "      <td>0.336243</td>\n",
              "      <td>0.846832</td>\n",
              "      <td>1.116119</td>\n",
              "    </tr>\n",
              "  </tbody>\n",
              "</table>\n",
              "</div>"
            ],
            "text/plain": [
              "                              id        F1  ...       F27       F28\n",
              "0  HOBBIES_1_001_CA_1_validation  0.772858  ...  0.943054  1.205566\n",
              "1  HOBBIES_1_002_CA_1_validation  0.036743  ...  0.799591  0.482422\n",
              "2  HOBBIES_1_003_CA_1_validation  0.399353  ...  1.341065  1.162140\n",
              "3  HOBBIES_1_004_CA_1_validation  1.818298  ...  2.074554  2.793854\n",
              "4  HOBBIES_1_005_CA_1_validation  1.861023  ...  0.846832  1.116119\n",
              "\n",
              "[5 rows x 29 columns]"
            ]
          },
          "metadata": {
            "tags": []
          },
          "execution_count": 76
        }
      ]
    },
    {
      "cell_type": "markdown",
      "metadata": {
        "id": "SEpjl7IJaoqM"
      },
      "source": [
        "# **2. Decision Trees**"
      ]
    },
    {
      "cell_type": "code",
      "metadata": {
        "colab": {
          "base_uri": "https://localhost:8080/"
        },
        "id": "LSU0M4RJZ_Sv",
        "outputId": "abce0417-815b-4759-df28-006ebc5ccd53"
      },
      "source": [
        "model = DecisionTreeRegressor()\n",
        "model.fit(Xtrain,ytrain)\n",
        "\n",
        "ypred = model.predict(Xval)\n",
        "print(\"Rmse: {}\".format(rmse(ypred,yval)))"
      ],
      "execution_count": null,
      "outputs": [
        {
          "output_type": "stream",
          "text": [
            "Rmse: 2.6658280475533225\n"
          ],
          "name": "stdout"
        }
      ]
    },
    {
      "cell_type": "code",
      "metadata": {
        "colab": {
          "base_uri": "https://localhost:8080/"
        },
        "id": "1JNuDVl_cbZW",
        "outputId": "1e74b049-e226-432a-9bb9-5e8c5474cb39"
      },
      "source": [
        "generate_submission_file(model,Xtest,\"DecisionTreeRegressor.csv\")"
      ],
      "execution_count": null,
      "outputs": [
        {
          "output_type": "stream",
          "text": [
            "Submission file with name DecisionTreeRegressor.csv created successfully\n"
          ],
          "name": "stdout"
        }
      ]
    },
    {
      "cell_type": "markdown",
      "metadata": {
        "id": "l7bxd81hb1oL"
      },
      "source": [
        "**Decision Trees with Hyperparameters**"
      ]
    },
    {
      "cell_type": "code",
      "metadata": {
        "colab": {
          "base_uri": "https://localhost:8080/"
        },
        "id": "e9haAAMdcCJg",
        "outputId": "61d41203-1571-473f-9f0d-ae5c9664742a"
      },
      "source": [
        "# We are training our model with multiple parameter values to get the best parameter to be used for the model.\n",
        "\n",
        "# We are randomly creating values to chose the best model out of it.\n",
        "\n",
        "for i in tqdm(range(10)): \n",
        "  max_depth = random.randint(1,150)\n",
        "  min_samples_split = random.randint(15,500)\n",
        "  min_samples_leaf = random.randint(15,400)\n",
        "\n",
        "  dt=DecisionTreeRegressor(max_depth=max_depth,min_samples_split=min_samples_split,max_leaf_nodes=min_samples_leaf)\n",
        "\n",
        "  dt.fit(Xtrain,ytrain)\n",
        "\n",
        "  # After training the model, we are trying to predict the model on X_val to check it's accuracy\n",
        "  ypred=dt.predict(Xval)\n",
        "\n",
        "  # Now that it has predicted the values for X_val, we are calculating it's rmse\n",
        "  rmse_result = rmse(ypred,yval)\n",
        "\n",
        "  print(\"\\n\\nmax_depth: {}\".format(max_depth),\"  min_samples_split: {}\".format(min_samples_split),\"  min_samples_leaf: {}\".format(min_samples_leaf),\"  Rmse: {}\".format(rmse_result))\n",
        " "
      ],
      "execution_count": null,
      "outputs": [
        {
          "output_type": "stream",
          "text": [
            " 10%|█         | 1/10 [01:34<14:06, 94.07s/it]"
          ],
          "name": "stderr"
        },
        {
          "output_type": "stream",
          "text": [
            "\n",
            "\n",
            "max_depth: 75   min_samples_split: 417   min_samples_leaf: 42   Rmse: 1.799398087789199\n"
          ],
          "name": "stdout"
        },
        {
          "output_type": "stream",
          "text": [
            "\r 20%|██        | 2/10 [03:29<13:22, 100.35s/it]"
          ],
          "name": "stderr"
        },
        {
          "output_type": "stream",
          "text": [
            "\n",
            "\n",
            "max_depth: 75   min_samples_split: 465   min_samples_leaf: 268   Rmse: 1.7761851109858502\n"
          ],
          "name": "stdout"
        },
        {
          "output_type": "stream",
          "text": [
            "\r 30%|███       | 3/10 [05:21<12:08, 104.03s/it]"
          ],
          "name": "stderr"
        },
        {
          "output_type": "stream",
          "text": [
            "\n",
            "\n",
            "max_depth: 110   min_samples_split: 97   min_samples_leaf: 202   Rmse: 1.7791837654323635\n"
          ],
          "name": "stdout"
        },
        {
          "output_type": "stream",
          "text": [
            "\r 40%|████      | 4/10 [07:11<10:33, 105.66s/it]"
          ],
          "name": "stderr"
        },
        {
          "output_type": "stream",
          "text": [
            "\n",
            "\n",
            "max_depth: 63   min_samples_split: 473   min_samples_leaf: 128   Rmse: 1.7798035389770968\n"
          ],
          "name": "stdout"
        },
        {
          "output_type": "stream",
          "text": [
            "\r 50%|█████     | 5/10 [08:30<08:09, 97.86s/it] "
          ],
          "name": "stderr"
        },
        {
          "output_type": "stream",
          "text": [
            "\n",
            "\n",
            "max_depth: 95   min_samples_split: 32   min_samples_leaf: 15   Rmse: 1.8770095332941115\n"
          ],
          "name": "stdout"
        },
        {
          "output_type": "stream",
          "text": [
            "\r 60%|██████    | 6/10 [10:25<06:51, 102.78s/it]"
          ],
          "name": "stderr"
        },
        {
          "output_type": "stream",
          "text": [
            "\n",
            "\n",
            "max_depth: 45   min_samples_split: 242   min_samples_leaf: 252   Rmse: 1.7786404203935233\n"
          ],
          "name": "stdout"
        },
        {
          "output_type": "stream",
          "text": [
            "\r 70%|███████   | 7/10 [12:04<05:04, 101.64s/it]"
          ],
          "name": "stderr"
        },
        {
          "output_type": "stream",
          "text": [
            "\n",
            "\n",
            "max_depth: 146   min_samples_split: 318   min_samples_leaf: 67   Rmse: 1.7882147725951367\n"
          ],
          "name": "stdout"
        },
        {
          "output_type": "stream",
          "text": [
            "\r 80%|████████  | 8/10 [13:59<03:31, 105.91s/it]"
          ],
          "name": "stderr"
        },
        {
          "output_type": "stream",
          "text": [
            "\n",
            "\n",
            "max_depth: 111   min_samples_split: 351   min_samples_leaf: 269   Rmse: 1.7793372871432998\n"
          ],
          "name": "stdout"
        },
        {
          "output_type": "stream",
          "text": [
            "\r 90%|█████████ | 9/10 [16:02<01:50, 110.76s/it]"
          ],
          "name": "stderr"
        },
        {
          "output_type": "stream",
          "text": [
            "\n",
            "\n",
            "max_depth: 70   min_samples_split: 499   min_samples_leaf: 358   Rmse: 1.7768393858393399\n"
          ],
          "name": "stdout"
        },
        {
          "output_type": "stream",
          "text": [
            "100%|██████████| 10/10 [17:51<00:00, 107.11s/it]"
          ],
          "name": "stderr"
        },
        {
          "output_type": "stream",
          "text": [
            "\n",
            "\n",
            "max_depth: 29   min_samples_split: 429   min_samples_leaf: 163   Rmse: 1.7791681640314132\n"
          ],
          "name": "stdout"
        },
        {
          "output_type": "stream",
          "text": [
            "\n"
          ],
          "name": "stderr"
        }
      ]
    },
    {
      "cell_type": "code",
      "metadata": {
        "id": "fcnYVSU_JRTI"
      },
      "source": [
        "# After running several combinations, we found these parameter values to give best result\n",
        "max_depth = 75\n",
        "min_samples_split = 465\n",
        "min_samples_leaf = 268 "
      ],
      "execution_count": null,
      "outputs": []
    },
    {
      "cell_type": "code",
      "metadata": {
        "colab": {
          "base_uri": "https://localhost:8080/"
        },
        "id": "gu5xgkREdyXu",
        "outputId": "367ec30d-62ef-4896-bfca-18c243c78993"
      },
      "source": [
        "# Now that we have found the best model which has the lowest RMSE score, we are using that parameter values to retrain the model.\n",
        "\n",
        "dt = DecisionTreeRegressor(max_depth = max_depth,\n",
        "                           min_samples_split = min_samples_split,\n",
        "                           max_leaf_nodes = min_samples_leaf)\n",
        "\n",
        "dt.fit(Xtrain,ytrain)\n",
        "ypred = dt.predict(Xval)\n",
        "\n",
        "print(\"max_depth: {}\".format(max_depth),\"  min_samples_split: {}\".format(min_samples_split),\"  min_samples_leaf: {}\".format(min_samples_leaf),\"  Rmse: {}\".format(rmse(ypred,yval)))"
      ],
      "execution_count": null,
      "outputs": [
        {
          "output_type": "stream",
          "text": [
            "max_depth: 75   min_samples_split: 465   min_samples_leaf: 268   Rmse: 1.7761851109858502\n"
          ],
          "name": "stdout"
        }
      ]
    },
    {
      "cell_type": "code",
      "metadata": {
        "colab": {
          "base_uri": "https://localhost:8080/"
        },
        "id": "iL5fKRmrcjWV",
        "outputId": "66c85ee0-d61d-47a2-dfea-a85f920a5cb3"
      },
      "source": [
        "generate_submission_file(dt,Xtest,\"DecisionTreeRegressorWith_hyperparameters.csv\")"
      ],
      "execution_count": null,
      "outputs": [
        {
          "output_type": "stream",
          "text": [
            "Submission file with name DecisionTreeRegressorWith_hyperparameters.csv created successfully\n"
          ],
          "name": "stdout"
        }
      ]
    },
    {
      "cell_type": "code",
      "metadata": {
        "colab": {
          "base_uri": "https://localhost:8080/",
          "height": 224
        },
        "id": "tSLc4TeJhyit",
        "outputId": "f4969f7f-369e-498a-b803-5c5e758b2661"
      },
      "source": [
        "predict_data = pd.read_csv('DecisionTreeRegressorWith_hyperparameters.csv')\n",
        "predict_data.head()"
      ],
      "execution_count": null,
      "outputs": [
        {
          "output_type": "execute_result",
          "data": {
            "text/html": [
              "<div>\n",
              "<style scoped>\n",
              "    .dataframe tbody tr th:only-of-type {\n",
              "        vertical-align: middle;\n",
              "    }\n",
              "\n",
              "    .dataframe tbody tr th {\n",
              "        vertical-align: top;\n",
              "    }\n",
              "\n",
              "    .dataframe thead th {\n",
              "        text-align: right;\n",
              "    }\n",
              "</style>\n",
              "<table border=\"1\" class=\"dataframe\">\n",
              "  <thead>\n",
              "    <tr style=\"text-align: right;\">\n",
              "      <th></th>\n",
              "      <th>id</th>\n",
              "      <th>F1</th>\n",
              "      <th>F2</th>\n",
              "      <th>F3</th>\n",
              "      <th>F4</th>\n",
              "      <th>F5</th>\n",
              "      <th>F6</th>\n",
              "      <th>F7</th>\n",
              "      <th>F8</th>\n",
              "      <th>F9</th>\n",
              "      <th>F10</th>\n",
              "      <th>F11</th>\n",
              "      <th>F12</th>\n",
              "      <th>F13</th>\n",
              "      <th>F14</th>\n",
              "      <th>F15</th>\n",
              "      <th>F16</th>\n",
              "      <th>F17</th>\n",
              "      <th>F18</th>\n",
              "      <th>F19</th>\n",
              "      <th>F20</th>\n",
              "      <th>F21</th>\n",
              "      <th>F22</th>\n",
              "      <th>F23</th>\n",
              "      <th>F24</th>\n",
              "      <th>F25</th>\n",
              "      <th>F26</th>\n",
              "      <th>F27</th>\n",
              "      <th>F28</th>\n",
              "    </tr>\n",
              "  </thead>\n",
              "  <tbody>\n",
              "    <tr>\n",
              "      <th>0</th>\n",
              "      <td>HOBBIES_1_001_CA_1_validation</td>\n",
              "      <td>0.979320</td>\n",
              "      <td>0.783615</td>\n",
              "      <td>0.661922</td>\n",
              "      <td>0.528860</td>\n",
              "      <td>0.528860</td>\n",
              "      <td>0.940913</td>\n",
              "      <td>1.812153</td>\n",
              "      <td>1.371890</td>\n",
              "      <td>1.371890</td>\n",
              "      <td>1.371890</td>\n",
              "      <td>1.371890</td>\n",
              "      <td>1.371890</td>\n",
              "      <td>1.550595</td>\n",
              "      <td>0.940913</td>\n",
              "      <td>0.979320</td>\n",
              "      <td>1.186091</td>\n",
              "      <td>1.186091</td>\n",
              "      <td>0.979320</td>\n",
              "      <td>1.371890</td>\n",
              "      <td>2.039826</td>\n",
              "      <td>1.812153</td>\n",
              "      <td>1.186091</td>\n",
              "      <td>0.979320</td>\n",
              "      <td>0.783615</td>\n",
              "      <td>1.186091</td>\n",
              "      <td>1.371890</td>\n",
              "      <td>0.940913</td>\n",
              "      <td>1.288131</td>\n",
              "    </tr>\n",
              "    <tr>\n",
              "      <th>1</th>\n",
              "      <td>HOBBIES_1_002_CA_1_validation</td>\n",
              "      <td>0.150229</td>\n",
              "      <td>0.294135</td>\n",
              "      <td>0.150229</td>\n",
              "      <td>0.150229</td>\n",
              "      <td>0.150229</td>\n",
              "      <td>0.150229</td>\n",
              "      <td>0.150229</td>\n",
              "      <td>0.150229</td>\n",
              "      <td>0.000000</td>\n",
              "      <td>0.150229</td>\n",
              "      <td>0.150229</td>\n",
              "      <td>0.150229</td>\n",
              "      <td>0.150229</td>\n",
              "      <td>0.150229</td>\n",
              "      <td>0.150229</td>\n",
              "      <td>0.150229</td>\n",
              "      <td>0.000000</td>\n",
              "      <td>0.000000</td>\n",
              "      <td>0.000000</td>\n",
              "      <td>0.150229</td>\n",
              "      <td>0.521529</td>\n",
              "      <td>0.528860</td>\n",
              "      <td>0.661922</td>\n",
              "      <td>0.661922</td>\n",
              "      <td>0.661922</td>\n",
              "      <td>0.661922</td>\n",
              "      <td>0.696498</td>\n",
              "      <td>0.294135</td>\n",
              "    </tr>\n",
              "    <tr>\n",
              "      <th>2</th>\n",
              "      <td>HOBBIES_1_003_CA_1_validation</td>\n",
              "      <td>0.661922</td>\n",
              "      <td>0.528860</td>\n",
              "      <td>0.528860</td>\n",
              "      <td>0.661922</td>\n",
              "      <td>0.528860</td>\n",
              "      <td>0.940913</td>\n",
              "      <td>0.940913</td>\n",
              "      <td>0.661922</td>\n",
              "      <td>0.661922</td>\n",
              "      <td>0.528860</td>\n",
              "      <td>0.401017</td>\n",
              "      <td>0.661922</td>\n",
              "      <td>0.696498</td>\n",
              "      <td>0.940913</td>\n",
              "      <td>0.783615</td>\n",
              "      <td>0.783615</td>\n",
              "      <td>0.979320</td>\n",
              "      <td>0.979320</td>\n",
              "      <td>0.783615</td>\n",
              "      <td>0.940913</td>\n",
              "      <td>0.696498</td>\n",
              "      <td>0.528860</td>\n",
              "      <td>0.528860</td>\n",
              "      <td>0.401017</td>\n",
              "      <td>0.661922</td>\n",
              "      <td>0.979320</td>\n",
              "      <td>1.288131</td>\n",
              "      <td>0.940913</td>\n",
              "    </tr>\n",
              "    <tr>\n",
              "      <th>3</th>\n",
              "      <td>HOBBIES_1_004_CA_1_validation</td>\n",
              "      <td>1.767407</td>\n",
              "      <td>1.767407</td>\n",
              "      <td>1.767407</td>\n",
              "      <td>2.101722</td>\n",
              "      <td>2.101722</td>\n",
              "      <td>1.812153</td>\n",
              "      <td>2.316107</td>\n",
              "      <td>2.430754</td>\n",
              "      <td>2.430754</td>\n",
              "      <td>2.101722</td>\n",
              "      <td>2.101722</td>\n",
              "      <td>1.767407</td>\n",
              "      <td>2.316107</td>\n",
              "      <td>2.039826</td>\n",
              "      <td>1.371890</td>\n",
              "      <td>1.371890</td>\n",
              "      <td>1.536879</td>\n",
              "      <td>1.767407</td>\n",
              "      <td>1.536879</td>\n",
              "      <td>1.812153</td>\n",
              "      <td>1.288131</td>\n",
              "      <td>1.186091</td>\n",
              "      <td>0.979320</td>\n",
              "      <td>0.979320</td>\n",
              "      <td>1.371890</td>\n",
              "      <td>1.186091</td>\n",
              "      <td>1.812153</td>\n",
              "      <td>2.745164</td>\n",
              "    </tr>\n",
              "    <tr>\n",
              "      <th>4</th>\n",
              "      <td>HOBBIES_1_005_CA_1_validation</td>\n",
              "      <td>1.767407</td>\n",
              "      <td>1.536879</td>\n",
              "      <td>1.767407</td>\n",
              "      <td>1.767407</td>\n",
              "      <td>1.767407</td>\n",
              "      <td>1.812153</td>\n",
              "      <td>1.812153</td>\n",
              "      <td>1.371890</td>\n",
              "      <td>1.767407</td>\n",
              "      <td>1.767407</td>\n",
              "      <td>1.371890</td>\n",
              "      <td>1.767407</td>\n",
              "      <td>2.745164</td>\n",
              "      <td>2.745164</td>\n",
              "      <td>2.101722</td>\n",
              "      <td>1.767407</td>\n",
              "      <td>2.101722</td>\n",
              "      <td>2.101722</td>\n",
              "      <td>1.767407</td>\n",
              "      <td>1.812153</td>\n",
              "      <td>1.288131</td>\n",
              "      <td>0.979320</td>\n",
              "      <td>0.979320</td>\n",
              "      <td>0.661922</td>\n",
              "      <td>0.401017</td>\n",
              "      <td>0.661922</td>\n",
              "      <td>0.940913</td>\n",
              "      <td>0.940913</td>\n",
              "    </tr>\n",
              "  </tbody>\n",
              "</table>\n",
              "</div>"
            ],
            "text/plain": [
              "                              id        F1  ...       F27       F28\n",
              "0  HOBBIES_1_001_CA_1_validation  0.979320  ...  0.940913  1.288131\n",
              "1  HOBBIES_1_002_CA_1_validation  0.150229  ...  0.696498  0.294135\n",
              "2  HOBBIES_1_003_CA_1_validation  0.661922  ...  1.288131  0.940913\n",
              "3  HOBBIES_1_004_CA_1_validation  1.767407  ...  1.812153  2.745164\n",
              "4  HOBBIES_1_005_CA_1_validation  1.767407  ...  0.940913  0.940913\n",
              "\n",
              "[5 rows x 29 columns]"
            ]
          },
          "metadata": {
            "tags": []
          },
          "execution_count": 20
        }
      ]
    },
    {
      "cell_type": "markdown",
      "metadata": {
        "id": "l--qnfhTxbIS"
      },
      "source": [
        "# **3. Random-Forest**"
      ]
    },
    {
      "cell_type": "code",
      "metadata": {
        "colab": {
          "base_uri": "https://localhost:8080/"
        },
        "id": "uwakpAUVwplR",
        "outputId": "25c71281-d052-4cb6-e4a1-3f58f4a77887"
      },
      "source": [
        "# We are training our model with multiple parameter values to get the best parameter to be used for the model.\n",
        "\n",
        "# We are randomly creating values to chose the best model out of it.\n",
        "\n",
        "for i in range(10):\n",
        "   max_depth = np.random.randint(1,10)\n",
        "   min_samples_leaf = np.random.randint(2,10)\n",
        "   n_estimators = np.random.randint(20,110)\n",
        "\n",
        "   model = RandomForestRegressor(max_depth = max_depth,\n",
        "                                 min_samples_leaf = min_samples_leaf,\n",
        "                                 n_estimators = n_estimators,n_jobs =- 1)\n",
        "   \n",
        "   model.fit(Xtrain,ytrain)\n",
        "\n",
        "   # After training the model, we are trying to predict the model on X_val to check it's accuracy\n",
        "   ypred = model.predict(Xval)\n",
        "   \n",
        "   # Now that it has predicted the values for X_val, we are calculating it's rmse\n",
        "   print(\"\\n\\nmax_depth: {}\".format(max_depth),\"  min_samples_leaf: {}\".format(min_samples_leaf),\"  n_estimators: {}\".format(n_estimators),\"  Rmse: {}\".format(rmse(ypred,yval)))\n",
        "  "
      ],
      "execution_count": null,
      "outputs": [
        {
          "output_type": "stream",
          "text": [
            "\n",
            "\n",
            "max_depth: 6   min_samples_leaf: 2   n_estimators: 93   Rmse: 1.781108167540244\n",
            "\n",
            "\n",
            "max_depth: 9   min_samples_leaf: 7   n_estimators: 35   Rmse: 1.7631935085731751\n",
            "\n",
            "\n",
            "max_depth: 6   min_samples_leaf: 9   n_estimators: 69   Rmse: 1.7808539129159384\n",
            "\n",
            "\n",
            "max_depth: 7   min_samples_leaf: 8   n_estimators: 89   Rmse: 1.7731714406455934\n",
            "\n",
            "\n",
            "max_depth: 6   min_samples_leaf: 3   n_estimators: 69   Rmse: 1.7812187286241985\n",
            "\n",
            "\n",
            "max_depth: 2   min_samples_leaf: 9   n_estimators: 81   Rmse: 2.1811697488748516\n",
            "\n",
            "\n",
            "max_depth: 6   min_samples_leaf: 2   n_estimators: 80   Rmse: 1.780816199005565\n",
            "\n",
            "\n",
            "max_depth: 4   min_samples_leaf: 7   n_estimators: 96   Rmse: 1.848275455869368\n",
            "\n",
            "\n",
            "max_depth: 8   min_samples_leaf: 8   n_estimators: 95   Rmse: 1.767726436707459\n",
            "\n",
            "\n",
            "max_depth: 1   min_samples_leaf: 5   n_estimators: 46   Rmse: 2.8003783290150164\n"
          ],
          "name": "stdout"
        }
      ]
    },
    {
      "cell_type": "code",
      "metadata": {
        "id": "FZXtNMcAKXNm"
      },
      "source": [
        "# After running several combinations, we found these parameter values to give best result\n",
        "\n",
        "max_depth = 9\n",
        "min_samples_leaf = 7\n",
        "n_estimators = 35"
      ],
      "execution_count": null,
      "outputs": []
    },
    {
      "cell_type": "code",
      "metadata": {
        "colab": {
          "base_uri": "https://localhost:8080/"
        },
        "id": "8-pwqshyx-CO",
        "outputId": "0833d124-066d-4cea-82d1-1813d5e5fb3e"
      },
      "source": [
        "# Now that we have found the best model which has the lowest RMSE score, we are using that parameter values to retrain the model.\n",
        "\n",
        "model = RandomForestRegressor(max_depth = max_depth,\n",
        "                              min_samples_leaf = min_samples_leaf,\n",
        "                              n_estimators = n_estimators,\n",
        "                              n_jobs=-1)\n",
        "\n",
        "model.fit(Xtrain,ytrain)\n",
        "ypred = model.predict(Xval)\n",
        "\n",
        "print(\"\\n\\nmax_depth: {}\".format(max_depth),\"  min_samples_leaf: {}\".format(min_samples_leaf),\"  n_estimators: {}\".format(n_estimators),\"  Rmse: {}\".format(rmse(ypred,yval)))\n"
      ],
      "execution_count": null,
      "outputs": [
        {
          "output_type": "stream",
          "text": [
            "\n",
            "\n",
            "max_depth: 9   min_samples_leaf: 7   n_estimators: 35   Rmse: 1.7624789843881024\n"
          ],
          "name": "stdout"
        }
      ]
    },
    {
      "cell_type": "code",
      "metadata": {
        "colab": {
          "base_uri": "https://localhost:8080/"
        },
        "id": "w9GwMy2c_sCQ",
        "outputId": "41143372-dac5-4bfc-8459-715b14f3da9d"
      },
      "source": [
        "generate_submission_file(model,Xtest,\"RandomForest.csv\")"
      ],
      "execution_count": null,
      "outputs": [
        {
          "output_type": "stream",
          "text": [
            "Submission file with name RandomForest.csv created successfully\n"
          ],
          "name": "stdout"
        }
      ]
    },
    {
      "cell_type": "code",
      "metadata": {
        "colab": {
          "base_uri": "https://localhost:8080/",
          "height": 224
        },
        "id": "URC0_8n0_7Fd",
        "outputId": "ef8203e2-a031-4b97-fe1a-0f3c7e371d43"
      },
      "source": [
        "predict_data = pd.read_csv('RandomForest.csv')\n",
        "predict_data.head()"
      ],
      "execution_count": null,
      "outputs": [
        {
          "output_type": "execute_result",
          "data": {
            "text/html": [
              "<div>\n",
              "<style scoped>\n",
              "    .dataframe tbody tr th:only-of-type {\n",
              "        vertical-align: middle;\n",
              "    }\n",
              "\n",
              "    .dataframe tbody tr th {\n",
              "        vertical-align: top;\n",
              "    }\n",
              "\n",
              "    .dataframe thead th {\n",
              "        text-align: right;\n",
              "    }\n",
              "</style>\n",
              "<table border=\"1\" class=\"dataframe\">\n",
              "  <thead>\n",
              "    <tr style=\"text-align: right;\">\n",
              "      <th></th>\n",
              "      <th>id</th>\n",
              "      <th>F1</th>\n",
              "      <th>F2</th>\n",
              "      <th>F3</th>\n",
              "      <th>F4</th>\n",
              "      <th>F5</th>\n",
              "      <th>F6</th>\n",
              "      <th>F7</th>\n",
              "      <th>F8</th>\n",
              "      <th>F9</th>\n",
              "      <th>F10</th>\n",
              "      <th>F11</th>\n",
              "      <th>F12</th>\n",
              "      <th>F13</th>\n",
              "      <th>F14</th>\n",
              "      <th>F15</th>\n",
              "      <th>F16</th>\n",
              "      <th>F17</th>\n",
              "      <th>F18</th>\n",
              "      <th>F19</th>\n",
              "      <th>F20</th>\n",
              "      <th>F21</th>\n",
              "      <th>F22</th>\n",
              "      <th>F23</th>\n",
              "      <th>F24</th>\n",
              "      <th>F25</th>\n",
              "      <th>F26</th>\n",
              "      <th>F27</th>\n",
              "      <th>F28</th>\n",
              "    </tr>\n",
              "  </thead>\n",
              "  <tbody>\n",
              "    <tr>\n",
              "      <th>0</th>\n",
              "      <td>HOBBIES_1_001_CA_1_validation</td>\n",
              "      <td>0.921891</td>\n",
              "      <td>0.782471</td>\n",
              "      <td>0.653480</td>\n",
              "      <td>0.527324</td>\n",
              "      <td>0.528836</td>\n",
              "      <td>1.202359</td>\n",
              "      <td>1.927076</td>\n",
              "      <td>1.366019</td>\n",
              "      <td>1.296243</td>\n",
              "      <td>1.438493</td>\n",
              "      <td>1.296243</td>\n",
              "      <td>1.299507</td>\n",
              "      <td>1.536890</td>\n",
              "      <td>0.833041</td>\n",
              "      <td>0.921891</td>\n",
              "      <td>1.184924</td>\n",
              "      <td>1.184924</td>\n",
              "      <td>1.034297</td>\n",
              "      <td>1.299507</td>\n",
              "      <td>2.062424</td>\n",
              "      <td>2.022702</td>\n",
              "      <td>1.187468</td>\n",
              "      <td>0.919923</td>\n",
              "      <td>0.782471</td>\n",
              "      <td>1.184924</td>\n",
              "      <td>1.299507</td>\n",
              "      <td>1.208346</td>\n",
              "      <td>1.468947</td>\n",
              "    </tr>\n",
              "    <tr>\n",
              "      <th>1</th>\n",
              "      <td>HOBBIES_1_002_CA_1_validation</td>\n",
              "      <td>0.137013</td>\n",
              "      <td>0.269807</td>\n",
              "      <td>0.137013</td>\n",
              "      <td>0.137013</td>\n",
              "      <td>0.144007</td>\n",
              "      <td>0.194193</td>\n",
              "      <td>0.193610</td>\n",
              "      <td>0.137013</td>\n",
              "      <td>0.000000</td>\n",
              "      <td>0.137013</td>\n",
              "      <td>0.137013</td>\n",
              "      <td>0.144007</td>\n",
              "      <td>0.194032</td>\n",
              "      <td>0.193174</td>\n",
              "      <td>0.137013</td>\n",
              "      <td>0.137013</td>\n",
              "      <td>0.000000</td>\n",
              "      <td>0.000000</td>\n",
              "      <td>0.000000</td>\n",
              "      <td>0.194032</td>\n",
              "      <td>0.554715</td>\n",
              "      <td>0.527324</td>\n",
              "      <td>0.653480</td>\n",
              "      <td>0.653480</td>\n",
              "      <td>0.653480</td>\n",
              "      <td>0.687158</td>\n",
              "      <td>0.787421</td>\n",
              "      <td>0.377819</td>\n",
              "    </tr>\n",
              "    <tr>\n",
              "      <th>2</th>\n",
              "      <td>HOBBIES_1_003_CA_1_validation</td>\n",
              "      <td>0.656778</td>\n",
              "      <td>0.527324</td>\n",
              "      <td>0.527324</td>\n",
              "      <td>0.653480</td>\n",
              "      <td>0.528836</td>\n",
              "      <td>0.846070</td>\n",
              "      <td>0.846070</td>\n",
              "      <td>0.656778</td>\n",
              "      <td>0.653480</td>\n",
              "      <td>0.527324</td>\n",
              "      <td>0.395436</td>\n",
              "      <td>0.687158</td>\n",
              "      <td>0.787421</td>\n",
              "      <td>1.159384</td>\n",
              "      <td>0.782471</td>\n",
              "      <td>0.782471</td>\n",
              "      <td>0.919923</td>\n",
              "      <td>0.919923</td>\n",
              "      <td>0.793006</td>\n",
              "      <td>1.014286</td>\n",
              "      <td>0.787421</td>\n",
              "      <td>0.527324</td>\n",
              "      <td>0.527324</td>\n",
              "      <td>0.395436</td>\n",
              "      <td>0.653480</td>\n",
              "      <td>0.934035</td>\n",
              "      <td>1.468947</td>\n",
              "      <td>1.208346</td>\n",
              "    </tr>\n",
              "    <tr>\n",
              "      <th>3</th>\n",
              "      <td>HOBBIES_1_004_CA_1_validation</td>\n",
              "      <td>1.830556</td>\n",
              "      <td>1.666438</td>\n",
              "      <td>1.817535</td>\n",
              "      <td>2.002841</td>\n",
              "      <td>2.069318</td>\n",
              "      <td>1.789456</td>\n",
              "      <td>2.824628</td>\n",
              "      <td>2.335115</td>\n",
              "      <td>2.335115</td>\n",
              "      <td>2.274693</td>\n",
              "      <td>2.007007</td>\n",
              "      <td>1.694044</td>\n",
              "      <td>2.508452</td>\n",
              "      <td>1.982944</td>\n",
              "      <td>1.366019</td>\n",
              "      <td>1.438493</td>\n",
              "      <td>1.495723</td>\n",
              "      <td>1.684975</td>\n",
              "      <td>1.630652</td>\n",
              "      <td>2.114019</td>\n",
              "      <td>1.242286</td>\n",
              "      <td>1.187468</td>\n",
              "      <td>1.034297</td>\n",
              "      <td>1.034297</td>\n",
              "      <td>1.296243</td>\n",
              "      <td>1.196126</td>\n",
              "      <td>1.789456</td>\n",
              "      <td>2.829232</td>\n",
              "    </tr>\n",
              "    <tr>\n",
              "      <th>4</th>\n",
              "      <td>HOBBIES_1_005_CA_1_validation</td>\n",
              "      <td>1.684975</td>\n",
              "      <td>1.495723</td>\n",
              "      <td>1.684975</td>\n",
              "      <td>1.817535</td>\n",
              "      <td>1.688768</td>\n",
              "      <td>2.034540</td>\n",
              "      <td>1.789456</td>\n",
              "      <td>1.491980</td>\n",
              "      <td>1.825094</td>\n",
              "      <td>1.703423</td>\n",
              "      <td>1.438493</td>\n",
              "      <td>1.712581</td>\n",
              "      <td>2.590717</td>\n",
              "      <td>2.582390</td>\n",
              "      <td>2.016520</td>\n",
              "      <td>1.825094</td>\n",
              "      <td>2.007007</td>\n",
              "      <td>2.041514</td>\n",
              "      <td>1.688768</td>\n",
              "      <td>2.022702</td>\n",
              "      <td>1.410968</td>\n",
              "      <td>1.049189</td>\n",
              "      <td>0.919923</td>\n",
              "      <td>0.653480</td>\n",
              "      <td>0.395436</td>\n",
              "      <td>0.687158</td>\n",
              "      <td>1.033547</td>\n",
              "      <td>1.033547</td>\n",
              "    </tr>\n",
              "  </tbody>\n",
              "</table>\n",
              "</div>"
            ],
            "text/plain": [
              "                              id        F1  ...       F27       F28\n",
              "0  HOBBIES_1_001_CA_1_validation  0.921891  ...  1.208346  1.468947\n",
              "1  HOBBIES_1_002_CA_1_validation  0.137013  ...  0.787421  0.377819\n",
              "2  HOBBIES_1_003_CA_1_validation  0.656778  ...  1.468947  1.208346\n",
              "3  HOBBIES_1_004_CA_1_validation  1.830556  ...  1.789456  2.829232\n",
              "4  HOBBIES_1_005_CA_1_validation  1.684975  ...  1.033547  1.033547\n",
              "\n",
              "[5 rows x 29 columns]"
            ]
          },
          "metadata": {
            "tags": []
          },
          "execution_count": 26
        }
      ]
    },
    {
      "cell_type": "markdown",
      "metadata": {
        "id": "ug-UTrRCACZg"
      },
      "source": [
        "# **4. LightGBM**"
      ]
    },
    {
      "cell_type": "code",
      "metadata": {
        "colab": {
          "base_uri": "https://localhost:8080/"
        },
        "id": "EtODARvDAgwt",
        "outputId": "c9309e73-18ca-4caa-be72-273c7469e11d"
      },
      "source": [
        "\n",
        "# We are training our model with multiple parameter values to get the best parameter to be used for the model.\n",
        "\n",
        "# We are randomly creating values to chose the best model out of it.\n",
        "for i in tqdm(range(10)):\n",
        "    lr = np.round(np.random.rand()/10,3)\n",
        "    num_leaves = np.random.randint(30,150)\n",
        "    min_data_in_leaf = np.random.randint(50,150)\n",
        "\n",
        "    lgb = LGBMRegressor( learning_rate=lr ,\n",
        "                            num_leaves=num_leaves ,\n",
        "                            min_data_in_leaf=min_data_in_leaf)\n",
        "\n",
        "    lgb.fit(Xtrain, ytrain)\n",
        "\n",
        "    # After training the model, we are trying to predict the model on X_val to check it's accuracy\n",
        "    y_pred = lgb.predict(Xval)\n",
        "\n",
        "    # Now that it has predicted the values for X_val, we are calculating it's rmse\n",
        "    acc = rmse(yval,y_pred)\n",
        "    \n",
        "    print(f\"For learning rate {lr}, num_leaves {num_leaves} and min_data_in_leaf {min_data_in_leaf} the RMSE is {acc} \")\n",
        "    print('*'*80)"
      ],
      "execution_count": null,
      "outputs": [
        {
          "output_type": "stream",
          "text": [
            " 10%|█         | 1/10 [00:46<06:55, 46.16s/it]"
          ],
          "name": "stderr"
        },
        {
          "output_type": "stream",
          "text": [
            "For learning rate 0.045, num_leaves 128 and min_data_in_leaf 61 the RMSE is 1.7459042646118457 \n",
            "********************************************************************************\n"
          ],
          "name": "stdout"
        },
        {
          "output_type": "stream",
          "text": [
            "\r 20%|██        | 2/10 [01:28<06:00, 45.07s/it]"
          ],
          "name": "stderr"
        },
        {
          "output_type": "stream",
          "text": [
            "For learning rate 0.028, num_leaves 83 and min_data_in_leaf 101 the RMSE is 1.768630982106965 \n",
            "********************************************************************************\n"
          ],
          "name": "stdout"
        },
        {
          "output_type": "stream",
          "text": [
            "\r 30%|███       | 3/10 [02:10<05:07, 43.96s/it]"
          ],
          "name": "stderr"
        },
        {
          "output_type": "stream",
          "text": [
            "For learning rate 0.041, num_leaves 87 and min_data_in_leaf 149 the RMSE is 1.7497580251553326 \n",
            "********************************************************************************\n"
          ],
          "name": "stdout"
        },
        {
          "output_type": "stream",
          "text": [
            "\r 40%|████      | 4/10 [02:43<04:05, 40.95s/it]"
          ],
          "name": "stderr"
        },
        {
          "output_type": "stream",
          "text": [
            "For learning rate 0.066, num_leaves 48 and min_data_in_leaf 143 the RMSE is 1.7461794191834472 \n",
            "********************************************************************************\n"
          ],
          "name": "stdout"
        },
        {
          "output_type": "stream",
          "text": [
            "\r 50%|█████     | 5/10 [03:24<03:23, 40.70s/it]"
          ],
          "name": "stderr"
        },
        {
          "output_type": "stream",
          "text": [
            "For learning rate 0.037, num_leaves 80 and min_data_in_leaf 94 the RMSE is 1.7531007369407354 \n",
            "********************************************************************************\n"
          ],
          "name": "stdout"
        },
        {
          "output_type": "stream",
          "text": [
            "\r 60%|██████    | 6/10 [04:00<02:38, 39.51s/it]"
          ],
          "name": "stderr"
        },
        {
          "output_type": "stream",
          "text": [
            "For learning rate 0.022, num_leaves 31 and min_data_in_leaf 148 the RMSE is 1.8098783229896058 \n",
            "********************************************************************************\n"
          ],
          "name": "stdout"
        },
        {
          "output_type": "stream",
          "text": [
            "\r 70%|███████   | 7/10 [04:54<02:11, 43.74s/it]"
          ],
          "name": "stderr"
        },
        {
          "output_type": "stream",
          "text": [
            "For learning rate 0.006, num_leaves 108 and min_data_in_leaf 50 the RMSE is 2.4965222098553346 \n",
            "********************************************************************************\n"
          ],
          "name": "stdout"
        },
        {
          "output_type": "stream",
          "text": [
            "\r 80%|████████  | 8/10 [05:30<01:23, 41.54s/it]"
          ],
          "name": "stderr"
        },
        {
          "output_type": "stream",
          "text": [
            "For learning rate 0.021, num_leaves 30 and min_data_in_leaf 138 the RMSE is 1.819406716198177 \n",
            "********************************************************************************\n"
          ],
          "name": "stdout"
        },
        {
          "output_type": "stream",
          "text": [
            "\r 90%|█████████ | 9/10 [06:20<00:43, 43.94s/it]"
          ],
          "name": "stderr"
        },
        {
          "output_type": "stream",
          "text": [
            "For learning rate 0.007, num_leaves 88 and min_data_in_leaf 101 the RMSE is 2.384663539750125 \n",
            "********************************************************************************\n"
          ],
          "name": "stdout"
        },
        {
          "output_type": "stream",
          "text": [
            "100%|██████████| 10/10 [06:58<00:00, 41.81s/it]"
          ],
          "name": "stderr"
        },
        {
          "output_type": "stream",
          "text": [
            "For learning rate 0.034, num_leaves 49 and min_data_in_leaf 122 the RMSE is 1.7606073863152665 \n",
            "********************************************************************************\n"
          ],
          "name": "stdout"
        },
        {
          "output_type": "stream",
          "text": [
            "\n"
          ],
          "name": "stderr"
        }
      ]
    },
    {
      "cell_type": "code",
      "metadata": {
        "id": "suP18b34BKFP"
      },
      "source": [
        "# After running several combinations, we found these parameter values to give best result\n",
        "\n",
        "learning_rate = 0.045\n",
        "num_leaves = 128\n",
        "min_data_in_leaf = 61"
      ],
      "execution_count": null,
      "outputs": []
    },
    {
      "cell_type": "code",
      "metadata": {
        "colab": {
          "base_uri": "https://localhost:8080/"
        },
        "id": "KZQZAKnZBOdf",
        "outputId": "a82bc5f6-5b6e-4bd1-88ec-674de8dce974"
      },
      "source": [
        "# Now that we have found the best model which has the lowest RMSE score, we are using that parameter values to retrain the model.\n",
        "\n",
        "lgb = LGBMRegressor( learning_rate=learning_rate ,\n",
        "                           num_leaves=num_leaves ,\n",
        "                           min_data_in_leaf=min_data_in_leaf)\n",
        "\n",
        "lgb.fit(Xtrain, ytrain)\n",
        "y_pred = lgb.predict(Xval)\n",
        "\n",
        "# Now that it has predicted the values for X_val, we are calculating it's rmse\n",
        "acc = rmse(yval,y_pred)\n",
        "print(f\"For learning rate {learning_rate}, num_leaves {num_leaves} and min_data_in_leaf {min_data_in_leaf} the RMSE is {acc} \")"
      ],
      "execution_count": null,
      "outputs": [
        {
          "output_type": "stream",
          "text": [
            "For learning rate 0.045, num_leaves 128 and min_data_in_leaf 61 the RMSE is 1.7459042646118457 \n"
          ],
          "name": "stdout"
        }
      ]
    },
    {
      "cell_type": "code",
      "metadata": {
        "colab": {
          "base_uri": "https://localhost:8080/"
        },
        "id": "KLXablTBIhYQ",
        "outputId": "50c78064-d6a6-4489-a3bd-408323c5b626"
      },
      "source": [
        "generate_submission_file(lgb,Xtest,\"LGB_Model.csv\")"
      ],
      "execution_count": null,
      "outputs": [
        {
          "output_type": "stream",
          "text": [
            "Submission file with name LGB_Model.csv created successfully\n"
          ],
          "name": "stdout"
        }
      ]
    },
    {
      "cell_type": "code",
      "metadata": {
        "colab": {
          "base_uri": "https://localhost:8080/",
          "height": 224
        },
        "id": "F2CEB4MJI-tQ",
        "outputId": "5653d5bd-8a0b-4274-fc66-0f2f888784e5"
      },
      "source": [
        "predict_data = pd.read_csv('LGB_Model.csv')\n",
        "predict_data.head()"
      ],
      "execution_count": null,
      "outputs": [
        {
          "output_type": "execute_result",
          "data": {
            "text/html": [
              "<div>\n",
              "<style scoped>\n",
              "    .dataframe tbody tr th:only-of-type {\n",
              "        vertical-align: middle;\n",
              "    }\n",
              "\n",
              "    .dataframe tbody tr th {\n",
              "        vertical-align: top;\n",
              "    }\n",
              "\n",
              "    .dataframe thead th {\n",
              "        text-align: right;\n",
              "    }\n",
              "</style>\n",
              "<table border=\"1\" class=\"dataframe\">\n",
              "  <thead>\n",
              "    <tr style=\"text-align: right;\">\n",
              "      <th></th>\n",
              "      <th>id</th>\n",
              "      <th>F1</th>\n",
              "      <th>F2</th>\n",
              "      <th>F3</th>\n",
              "      <th>F4</th>\n",
              "      <th>F5</th>\n",
              "      <th>F6</th>\n",
              "      <th>F7</th>\n",
              "      <th>F8</th>\n",
              "      <th>F9</th>\n",
              "      <th>F10</th>\n",
              "      <th>F11</th>\n",
              "      <th>F12</th>\n",
              "      <th>F13</th>\n",
              "      <th>F14</th>\n",
              "      <th>F15</th>\n",
              "      <th>F16</th>\n",
              "      <th>F17</th>\n",
              "      <th>F18</th>\n",
              "      <th>F19</th>\n",
              "      <th>F20</th>\n",
              "      <th>F21</th>\n",
              "      <th>F22</th>\n",
              "      <th>F23</th>\n",
              "      <th>F24</th>\n",
              "      <th>F25</th>\n",
              "      <th>F26</th>\n",
              "      <th>F27</th>\n",
              "      <th>F28</th>\n",
              "    </tr>\n",
              "  </thead>\n",
              "  <tbody>\n",
              "    <tr>\n",
              "      <th>0</th>\n",
              "      <td>HOBBIES_1_001_CA_1_validation</td>\n",
              "      <td>0.961546</td>\n",
              "      <td>0.764940</td>\n",
              "      <td>0.649797</td>\n",
              "      <td>0.527654</td>\n",
              "      <td>0.553857</td>\n",
              "      <td>1.022523</td>\n",
              "      <td>1.736519</td>\n",
              "      <td>1.362857</td>\n",
              "      <td>1.286859</td>\n",
              "      <td>1.388844</td>\n",
              "      <td>1.277882</td>\n",
              "      <td>1.379791</td>\n",
              "      <td>1.550922</td>\n",
              "      <td>0.868384</td>\n",
              "      <td>0.961111</td>\n",
              "      <td>1.142976</td>\n",
              "      <td>1.144241</td>\n",
              "      <td>1.009991</td>\n",
              "      <td>1.361539</td>\n",
              "      <td>2.071576</td>\n",
              "      <td>1.901652</td>\n",
              "      <td>1.234959</td>\n",
              "      <td>0.900271</td>\n",
              "      <td>0.764940</td>\n",
              "      <td>1.151227</td>\n",
              "      <td>1.343620</td>\n",
              "      <td>1.022523</td>\n",
              "      <td>1.202686</td>\n",
              "    </tr>\n",
              "    <tr>\n",
              "      <th>1</th>\n",
              "      <td>HOBBIES_1_002_CA_1_validation</td>\n",
              "      <td>0.160047</td>\n",
              "      <td>0.284487</td>\n",
              "      <td>0.151095</td>\n",
              "      <td>0.151095</td>\n",
              "      <td>0.160267</td>\n",
              "      <td>0.181580</td>\n",
              "      <td>0.181580</td>\n",
              "      <td>0.160047</td>\n",
              "      <td>0.024125</td>\n",
              "      <td>0.151095</td>\n",
              "      <td>0.151095</td>\n",
              "      <td>0.160267</td>\n",
              "      <td>0.181580</td>\n",
              "      <td>0.181580</td>\n",
              "      <td>0.160047</td>\n",
              "      <td>0.151095</td>\n",
              "      <td>0.024125</td>\n",
              "      <td>0.024125</td>\n",
              "      <td>0.024125</td>\n",
              "      <td>0.181580</td>\n",
              "      <td>0.512822</td>\n",
              "      <td>0.547759</td>\n",
              "      <td>0.649797</td>\n",
              "      <td>0.649797</td>\n",
              "      <td>0.649797</td>\n",
              "      <td>0.691128</td>\n",
              "      <td>0.689526</td>\n",
              "      <td>0.337699</td>\n",
              "    </tr>\n",
              "    <tr>\n",
              "      <th>2</th>\n",
              "      <td>HOBBIES_1_003_CA_1_validation</td>\n",
              "      <td>0.686296</td>\n",
              "      <td>0.527654</td>\n",
              "      <td>0.527654</td>\n",
              "      <td>0.649797</td>\n",
              "      <td>0.550231</td>\n",
              "      <td>0.858214</td>\n",
              "      <td>0.856679</td>\n",
              "      <td>0.683736</td>\n",
              "      <td>0.655286</td>\n",
              "      <td>0.527654</td>\n",
              "      <td>0.407176</td>\n",
              "      <td>0.694433</td>\n",
              "      <td>0.689526</td>\n",
              "      <td>1.015939</td>\n",
              "      <td>0.814547</td>\n",
              "      <td>0.767237</td>\n",
              "      <td>0.898248</td>\n",
              "      <td>0.901832</td>\n",
              "      <td>0.824221</td>\n",
              "      <td>0.859239</td>\n",
              "      <td>0.693109</td>\n",
              "      <td>0.547759</td>\n",
              "      <td>0.527654</td>\n",
              "      <td>0.407176</td>\n",
              "      <td>0.649797</td>\n",
              "      <td>0.951599</td>\n",
              "      <td>1.202686</td>\n",
              "      <td>1.022523</td>\n",
              "    </tr>\n",
              "    <tr>\n",
              "      <th>3</th>\n",
              "      <td>HOBBIES_1_004_CA_1_validation</td>\n",
              "      <td>1.892630</td>\n",
              "      <td>1.599882</td>\n",
              "      <td>1.726721</td>\n",
              "      <td>1.871043</td>\n",
              "      <td>2.158116</td>\n",
              "      <td>1.742358</td>\n",
              "      <td>2.433794</td>\n",
              "      <td>2.434962</td>\n",
              "      <td>2.307189</td>\n",
              "      <td>2.155603</td>\n",
              "      <td>1.919901</td>\n",
              "      <td>1.774214</td>\n",
              "      <td>2.469020</td>\n",
              "      <td>2.046319</td>\n",
              "      <td>1.396974</td>\n",
              "      <td>1.389030</td>\n",
              "      <td>1.492758</td>\n",
              "      <td>1.633760</td>\n",
              "      <td>1.591880</td>\n",
              "      <td>1.927034</td>\n",
              "      <td>1.237075</td>\n",
              "      <td>1.272582</td>\n",
              "      <td>1.004185</td>\n",
              "      <td>1.009720</td>\n",
              "      <td>1.258477</td>\n",
              "      <td>1.236396</td>\n",
              "      <td>1.803802</td>\n",
              "      <td>2.793405</td>\n",
              "    </tr>\n",
              "    <tr>\n",
              "      <th>4</th>\n",
              "      <td>HOBBIES_1_005_CA_1_validation</td>\n",
              "      <td>1.737660</td>\n",
              "      <td>1.460836</td>\n",
              "      <td>1.638985</td>\n",
              "      <td>1.774354</td>\n",
              "      <td>1.734282</td>\n",
              "      <td>1.903130</td>\n",
              "      <td>1.760996</td>\n",
              "      <td>1.490627</td>\n",
              "      <td>1.785507</td>\n",
              "      <td>1.628615</td>\n",
              "      <td>1.396601</td>\n",
              "      <td>1.781918</td>\n",
              "      <td>2.573768</td>\n",
              "      <td>2.481721</td>\n",
              "      <td>2.076219</td>\n",
              "      <td>1.777616</td>\n",
              "      <td>1.882934</td>\n",
              "      <td>1.991528</td>\n",
              "      <td>1.749887</td>\n",
              "      <td>1.905922</td>\n",
              "      <td>1.381881</td>\n",
              "      <td>1.096283</td>\n",
              "      <td>0.901812</td>\n",
              "      <td>0.653423</td>\n",
              "      <td>0.414385</td>\n",
              "      <td>0.694711</td>\n",
              "      <td>1.026107</td>\n",
              "      <td>1.052699</td>\n",
              "    </tr>\n",
              "  </tbody>\n",
              "</table>\n",
              "</div>"
            ],
            "text/plain": [
              "                              id        F1  ...       F27       F28\n",
              "0  HOBBIES_1_001_CA_1_validation  0.961546  ...  1.022523  1.202686\n",
              "1  HOBBIES_1_002_CA_1_validation  0.160047  ...  0.689526  0.337699\n",
              "2  HOBBIES_1_003_CA_1_validation  0.686296  ...  1.202686  1.022523\n",
              "3  HOBBIES_1_004_CA_1_validation  1.892630  ...  1.803802  2.793405\n",
              "4  HOBBIES_1_005_CA_1_validation  1.737660  ...  1.026107  1.052699\n",
              "\n",
              "[5 rows x 29 columns]"
            ]
          },
          "metadata": {
            "tags": []
          },
          "execution_count": 15
        }
      ]
    },
    {
      "cell_type": "markdown",
      "metadata": {
        "id": "JVt_F-ipJojw"
      },
      "source": [
        "# **5.CATBOOST**"
      ]
    },
    {
      "cell_type": "code",
      "metadata": {
        "colab": {
          "base_uri": "https://localhost:8080/"
        },
        "id": "sbiaYyjIJAr9",
        "outputId": "94f1bba8-4b8f-4115-b87a-4ad581f39784"
      },
      "source": [
        "# We are training our model with multiple parameter values to get the best parameter to be used for the model.\n",
        "\n",
        "# We are randomly creating values to chose the best model out of it.\n",
        "for i in range(8):\n",
        "    lr = np.round(np.random.rand()/10,3)\n",
        "    min_data_in_leaf = np.random.randint(50,150)\n",
        "\n",
        "    cbr = CatBoostRegressor(learning_rate=lr ,\n",
        "                        min_data_in_leaf=min_data_in_leaf,\n",
        "                        logging_level=\"Silent\", iterations=130)\n",
        "\n",
        "    cbr.fit(Xtrain, ytrain)\n",
        "\n",
        "    # After training the model, we are trying to predict the model on X_val to check it's accuracy\n",
        "    y_pred = cbr.predict(Xval)\n",
        "\n",
        "    # Now that it has predicted the values for X_val, we are calculating it's rmse\n",
        "    acc = rmse(yval,y_pred)\n",
        "    \n",
        "    print(f\"For learning rate {lr}, num_leaves {num_leaves} and min_data_in_leaf {min_data_in_leaf} the RMSE is {acc} \")\n",
        "    print('*'*80)"
      ],
      "execution_count": null,
      "outputs": [
        {
          "output_type": "stream",
          "text": [
            "For learning rate 0.097, num_leaves 103 and min_data_in_leaf 114 the RMSE is 1.756915735667423 \n",
            "********************************************************************************\n",
            "For learning rate 0.064, num_leaves 88 and min_data_in_leaf 119 the RMSE is 1.7598402143835354 \n",
            "********************************************************************************\n",
            "For learning rate 0.054, num_leaves 39 and min_data_in_leaf 105 the RMSE is 1.7623565579720384 \n",
            "********************************************************************************\n",
            "For learning rate 0.013, num_leaves 58 and min_data_in_leaf 65 the RMSE is 1.9193496416038003 \n",
            "********************************************************************************\n",
            "For learning rate 0.026, num_leaves 56 and min_data_in_leaf 123 the RMSE is 1.784489826318546 \n",
            "********************************************************************************\n",
            "For learning rate 0.095, num_leaves 42 and min_data_in_leaf 84 the RMSE is 1.7545178999316116 \n",
            "********************************************************************************\n",
            "For learning rate 0.082, num_leaves 129 and min_data_in_leaf 121 the RMSE is 1.756817060113016 \n",
            "********************************************************************************\n",
            "For learning rate 0.095, num_leaves 55 and min_data_in_leaf 134 the RMSE is 1.7545178999316116 \n",
            "********************************************************************************\n"
          ],
          "name": "stdout"
        }
      ]
    },
    {
      "cell_type": "code",
      "metadata": {
        "id": "rVnljZHuKg22"
      },
      "source": [
        "# After running several combinations, we found these parameter values to give best result\n",
        "learning_rate = 0.095\n",
        "min_data_in_leaf = 84\n"
      ],
      "execution_count": null,
      "outputs": []
    },
    {
      "cell_type": "code",
      "metadata": {
        "colab": {
          "base_uri": "https://localhost:8080/"
        },
        "id": "72XuJdnONikj",
        "outputId": "c0f3432d-1719-4540-8fc2-3d73a7c01f23"
      },
      "source": [
        "# Now that we have found the best model which has the lowest RMSE score, we are using that parameter values to retrain the model.\n",
        "\n",
        "cbr = CatBoostRegressor(learning_rate=learning_rate, min_data_in_leaf = min_data_in_leaf, iterations=100, logging_level=\"Silent\")\n",
        "\n",
        "cbr.fit(Xtrain, ytrain)\n",
        "\n",
        "# After training the model, we are trying to predict the model on X_val to check it's accuracy\n",
        "y_pred = cbr.predict(Xval)\n",
        "\n",
        "# Now that it has predicted the values for X_val, we are calculating it's rmse\n",
        "acc = rmse(yval,y_pred)\n",
        "    \n",
        "print(f\"For learning rate {lr}, num_leaves {num_leaves} and min_data_in_leaf {min_data_in_leaf} the RMSE is {acc} \")\n",
        "print('*'*80)\n"
      ],
      "execution_count": null,
      "outputs": [
        {
          "output_type": "stream",
          "text": [
            "For learning rate 0.095, num_leaves 55 and min_data_in_leaf 84 the RMSE is 1.7584325246234103 \n",
            "********************************************************************************\n"
          ],
          "name": "stdout"
        }
      ]
    },
    {
      "cell_type": "code",
      "metadata": {
        "colab": {
          "base_uri": "https://localhost:8080/"
        },
        "id": "o6BzRUIvNvuV",
        "outputId": "6fc27c17-5685-462f-91d4-c74e403ab90f"
      },
      "source": [
        "generate_submission_file(cbr,Xtest,\"CATBOOST_Model.csv\")"
      ],
      "execution_count": null,
      "outputs": [
        {
          "output_type": "stream",
          "text": [
            "Submission file with name CATBOOST_Model.csv created successfully\n"
          ],
          "name": "stdout"
        }
      ]
    },
    {
      "cell_type": "code",
      "metadata": {
        "colab": {
          "base_uri": "https://localhost:8080/",
          "height": 224
        },
        "id": "KxGWx_1nN7JW",
        "outputId": "64a087c0-1b1b-46cf-f5ca-e8d1bd69e0a3"
      },
      "source": [
        "predict_data = pd.read_csv('CATBOOST_Model.csv')\n",
        "predict_data.head()"
      ],
      "execution_count": null,
      "outputs": [
        {
          "output_type": "execute_result",
          "data": {
            "text/html": [
              "<div>\n",
              "<style scoped>\n",
              "    .dataframe tbody tr th:only-of-type {\n",
              "        vertical-align: middle;\n",
              "    }\n",
              "\n",
              "    .dataframe tbody tr th {\n",
              "        vertical-align: top;\n",
              "    }\n",
              "\n",
              "    .dataframe thead th {\n",
              "        text-align: right;\n",
              "    }\n",
              "</style>\n",
              "<table border=\"1\" class=\"dataframe\">\n",
              "  <thead>\n",
              "    <tr style=\"text-align: right;\">\n",
              "      <th></th>\n",
              "      <th>id</th>\n",
              "      <th>F1</th>\n",
              "      <th>F2</th>\n",
              "      <th>F3</th>\n",
              "      <th>F4</th>\n",
              "      <th>F5</th>\n",
              "      <th>F6</th>\n",
              "      <th>F7</th>\n",
              "      <th>F8</th>\n",
              "      <th>F9</th>\n",
              "      <th>F10</th>\n",
              "      <th>F11</th>\n",
              "      <th>F12</th>\n",
              "      <th>F13</th>\n",
              "      <th>F14</th>\n",
              "      <th>F15</th>\n",
              "      <th>F16</th>\n",
              "      <th>F17</th>\n",
              "      <th>F18</th>\n",
              "      <th>F19</th>\n",
              "      <th>F20</th>\n",
              "      <th>F21</th>\n",
              "      <th>F22</th>\n",
              "      <th>F23</th>\n",
              "      <th>F24</th>\n",
              "      <th>F25</th>\n",
              "      <th>F26</th>\n",
              "      <th>F27</th>\n",
              "      <th>F28</th>\n",
              "    </tr>\n",
              "  </thead>\n",
              "  <tbody>\n",
              "    <tr>\n",
              "      <th>0</th>\n",
              "      <td>HOBBIES_1_001_CA_1_validation</td>\n",
              "      <td>0.963608</td>\n",
              "      <td>0.773659</td>\n",
              "      <td>0.583900</td>\n",
              "      <td>0.500278</td>\n",
              "      <td>0.571446</td>\n",
              "      <td>0.997673</td>\n",
              "      <td>1.596788</td>\n",
              "      <td>1.239331</td>\n",
              "      <td>1.197810</td>\n",
              "      <td>1.300804</td>\n",
              "      <td>1.264111</td>\n",
              "      <td>1.342958</td>\n",
              "      <td>1.570534</td>\n",
              "      <td>0.958007</td>\n",
              "      <td>0.996453</td>\n",
              "      <td>1.147627</td>\n",
              "      <td>1.150886</td>\n",
              "      <td>1.027263</td>\n",
              "      <td>1.385998</td>\n",
              "      <td>2.082123</td>\n",
              "      <td>1.867544</td>\n",
              "      <td>1.191692</td>\n",
              "      <td>0.821642</td>\n",
              "      <td>0.697129</td>\n",
              "      <td>1.064852</td>\n",
              "      <td>1.232612</td>\n",
              "      <td>1.013260</td>\n",
              "      <td>1.143117</td>\n",
              "    </tr>\n",
              "    <tr>\n",
              "      <th>1</th>\n",
              "      <td>HOBBIES_1_002_CA_1_validation</td>\n",
              "      <td>0.125590</td>\n",
              "      <td>0.227450</td>\n",
              "      <td>0.104393</td>\n",
              "      <td>0.104393</td>\n",
              "      <td>0.156188</td>\n",
              "      <td>0.222318</td>\n",
              "      <td>0.227570</td>\n",
              "      <td>0.133583</td>\n",
              "      <td>0.002394</td>\n",
              "      <td>0.112958</td>\n",
              "      <td>0.096893</td>\n",
              "      <td>0.168693</td>\n",
              "      <td>0.245895</td>\n",
              "      <td>0.215640</td>\n",
              "      <td>0.134556</td>\n",
              "      <td>0.112958</td>\n",
              "      <td>-0.001506</td>\n",
              "      <td>-0.001506</td>\n",
              "      <td>0.029780</td>\n",
              "      <td>0.241041</td>\n",
              "      <td>0.566638</td>\n",
              "      <td>0.502835</td>\n",
              "      <td>0.628207</td>\n",
              "      <td>0.628207</td>\n",
              "      <td>0.628207</td>\n",
              "      <td>0.690964</td>\n",
              "      <td>0.698400</td>\n",
              "      <td>0.405503</td>\n",
              "    </tr>\n",
              "    <tr>\n",
              "      <th>2</th>\n",
              "      <td>HOBBIES_1_003_CA_1_validation</td>\n",
              "      <td>0.718568</td>\n",
              "      <td>0.571146</td>\n",
              "      <td>0.571146</td>\n",
              "      <td>0.658847</td>\n",
              "      <td>0.642314</td>\n",
              "      <td>1.021228</td>\n",
              "      <td>1.000778</td>\n",
              "      <td>0.739119</td>\n",
              "      <td>0.692882</td>\n",
              "      <td>0.514598</td>\n",
              "      <td>0.392831</td>\n",
              "      <td>0.684431</td>\n",
              "      <td>0.783397</td>\n",
              "      <td>0.978657</td>\n",
              "      <td>0.786354</td>\n",
              "      <td>0.711450</td>\n",
              "      <td>0.921373</td>\n",
              "      <td>0.893581</td>\n",
              "      <td>0.855691</td>\n",
              "      <td>0.839996</td>\n",
              "      <td>0.706135</td>\n",
              "      <td>0.502835</td>\n",
              "      <td>0.461529</td>\n",
              "      <td>0.344814</td>\n",
              "      <td>0.582565</td>\n",
              "      <td>0.898077</td>\n",
              "      <td>1.113218</td>\n",
              "      <td>0.952788</td>\n",
              "    </tr>\n",
              "    <tr>\n",
              "      <th>3</th>\n",
              "      <td>HOBBIES_1_004_CA_1_validation</td>\n",
              "      <td>1.887565</td>\n",
              "      <td>1.518405</td>\n",
              "      <td>1.757612</td>\n",
              "      <td>1.871997</td>\n",
              "      <td>2.086417</td>\n",
              "      <td>1.688094</td>\n",
              "      <td>2.538228</td>\n",
              "      <td>2.425311</td>\n",
              "      <td>2.308721</td>\n",
              "      <td>2.272867</td>\n",
              "      <td>1.843410</td>\n",
              "      <td>1.698329</td>\n",
              "      <td>2.637919</td>\n",
              "      <td>2.100283</td>\n",
              "      <td>1.409054</td>\n",
              "      <td>1.381886</td>\n",
              "      <td>1.540248</td>\n",
              "      <td>1.622057</td>\n",
              "      <td>1.544053</td>\n",
              "      <td>1.788524</td>\n",
              "      <td>1.298327</td>\n",
              "      <td>1.213354</td>\n",
              "      <td>1.008348</td>\n",
              "      <td>1.005161</td>\n",
              "      <td>1.236863</td>\n",
              "      <td>1.213700</td>\n",
              "      <td>1.867383</td>\n",
              "      <td>2.788366</td>\n",
              "    </tr>\n",
              "    <tr>\n",
              "      <th>4</th>\n",
              "      <td>HOBBIES_1_005_CA_1_validation</td>\n",
              "      <td>1.718618</td>\n",
              "      <td>1.497793</td>\n",
              "      <td>1.601802</td>\n",
              "      <td>1.844794</td>\n",
              "      <td>1.690130</td>\n",
              "      <td>1.754699</td>\n",
              "      <td>1.727251</td>\n",
              "      <td>1.485394</td>\n",
              "      <td>1.894861</td>\n",
              "      <td>1.632639</td>\n",
              "      <td>1.313648</td>\n",
              "      <td>1.767806</td>\n",
              "      <td>2.629893</td>\n",
              "      <td>2.573918</td>\n",
              "      <td>2.062958</td>\n",
              "      <td>1.869566</td>\n",
              "      <td>1.897289</td>\n",
              "      <td>1.981757</td>\n",
              "      <td>1.712265</td>\n",
              "      <td>1.854346</td>\n",
              "      <td>1.488639</td>\n",
              "      <td>1.139833</td>\n",
              "      <td>0.906765</td>\n",
              "      <td>0.589965</td>\n",
              "      <td>0.389628</td>\n",
              "      <td>0.661133</td>\n",
              "      <td>1.113580</td>\n",
              "      <td>1.121676</td>\n",
              "    </tr>\n",
              "  </tbody>\n",
              "</table>\n",
              "</div>"
            ],
            "text/plain": [
              "                              id        F1  ...       F27       F28\n",
              "0  HOBBIES_1_001_CA_1_validation  0.963608  ...  1.013260  1.143117\n",
              "1  HOBBIES_1_002_CA_1_validation  0.125590  ...  0.698400  0.405503\n",
              "2  HOBBIES_1_003_CA_1_validation  0.718568  ...  1.113218  0.952788\n",
              "3  HOBBIES_1_004_CA_1_validation  1.887565  ...  1.867383  2.788366\n",
              "4  HOBBIES_1_005_CA_1_validation  1.718618  ...  1.113580  1.121676\n",
              "\n",
              "[5 rows x 29 columns]"
            ]
          },
          "metadata": {
            "tags": []
          },
          "execution_count": 26
        }
      ]
    },
    {
      "cell_type": "markdown",
      "metadata": {
        "id": "Cjg65WymOF6e"
      },
      "source": [
        "# **6.XGBoost**"
      ]
    },
    {
      "cell_type": "code",
      "metadata": {
        "colab": {
          "base_uri": "https://localhost:8080/"
        },
        "id": "96uJ6DaYN9ub",
        "outputId": "790cbc91-324b-413e-f3c4-4c35b1babc39"
      },
      "source": [
        "for i in range(10):\n",
        "    lr = np.round(np.random.rand()/10,3)\n",
        "    min_child_weight  = np.random.randint(30,150)\n",
        "    max_leaves = np.random.randint(30,100)\n",
        "\n",
        "    xgb = XGBRegressor(objective='reg:squarederror',tree_method = 'hist', learning_rate = lr,min_child_weight = min_child_weight, \n",
        "                       subsample = 0.7, colsample_bytree = 0.7, n_estimators = 100,grow_policy = 'lossguide',\n",
        "                       max_leaves = max_leaves, n_jobs=-1 ) \n",
        "    \n",
        "    xgb.fit(Xtrain,ytrain)\n",
        "    y_pred = xgb.predict(Xval)\n",
        "    acc = rmse(yval,y_pred)\n",
        "\n",
        "    print(f\"For learning rate {lr}, min_child_weight {min_child_weight} and max_leaves {max_leaves} the RMSE is {acc} \")\n",
        "    print('*'*80)"
      ],
      "execution_count": null,
      "outputs": [
        {
          "output_type": "stream",
          "text": [
            "For learning rate 0.068, min_child_weight 104 and max_leaves 67 the RMSE is 1.778567653592908 \n",
            "********************************************************************************\n",
            "For learning rate 0.084, min_child_weight 129 and max_leaves 43 the RMSE is 1.774984819051808 \n",
            "********************************************************************************\n",
            "For learning rate 0.043, min_child_weight 134 and max_leaves 33 the RMSE is 1.7888874484715214 \n",
            "********************************************************************************\n",
            "For learning rate 0.049, min_child_weight 147 and max_leaves 54 the RMSE is 1.784654609431873 \n",
            "********************************************************************************\n",
            "For learning rate 0.007, min_child_weight 127 and max_leaves 77 the RMSE is 2.5130322286449593 \n",
            "********************************************************************************\n",
            "For learning rate 0.086, min_child_weight 115 and max_leaves 56 the RMSE is 1.77418542626555 \n",
            "********************************************************************************\n",
            "For learning rate 0.074, min_child_weight 128 and max_leaves 70 the RMSE is 1.7762679312953238 \n",
            "********************************************************************************\n",
            "For learning rate 0.058, min_child_weight 121 and max_leaves 67 the RMSE is 1.7821415460244814 \n",
            "********************************************************************************\n",
            "For learning rate 0.078, min_child_weight 137 and max_leaves 94 the RMSE is 1.776364234724731 \n",
            "********************************************************************************\n",
            "For learning rate 0.062, min_child_weight 33 and max_leaves 58 the RMSE is 1.780305846437727 \n",
            "********************************************************************************\n"
          ],
          "name": "stdout"
        }
      ]
    },
    {
      "cell_type": "code",
      "metadata": {
        "id": "oFP9sD-7O4qq"
      },
      "source": [
        "lr = 0.086\n",
        "min_child_weight  = 115\n",
        "max_leaves = 56"
      ],
      "execution_count": null,
      "outputs": []
    },
    {
      "cell_type": "code",
      "metadata": {
        "colab": {
          "base_uri": "https://localhost:8080/"
        },
        "id": "sC7ao555O8VC",
        "outputId": "f95f898b-3f7c-4880-9756-8b6f61004dd8"
      },
      "source": [
        "# Now that we have found the best model which has the lowest RMSE score, we are using that parameter values to retrain the model.\n",
        "\n",
        "xgb = XGBRegressor(objective='reg:squarederror',tree_method = 'hist', learning_rate = lr,min_child_weight = min_child_weight, \n",
        "                       subsample = 0.7, colsample_bytree = 0.7, n_estimators = 100,grow_policy = 'lossguide',\n",
        "                       max_leaves = max_leaves, n_jobs=-1 )\n",
        "xgb.fit(Xtrain, ytrain)\n",
        "y_pred = xgb.predict(Xval)\n",
        "\n",
        "# Now that it has predicted the values for X_val, we are calculating it's rmse\n",
        "acc = rmse(yval,y_pred)\n",
        "print(f\"For learning rate {lr}, min_child_weight {min_child_weight} and max_leaves {max_leaves} the RMSE is {acc} \")"
      ],
      "execution_count": null,
      "outputs": [
        {
          "output_type": "stream",
          "text": [
            "For learning rate 0.086, min_child_weight 115 and max_leaves 56 the RMSE is 1.77418542626555 \n"
          ],
          "name": "stdout"
        }
      ]
    },
    {
      "cell_type": "code",
      "metadata": {
        "colab": {
          "base_uri": "https://localhost:8080/"
        },
        "id": "YWK4VRkPRuZI",
        "outputId": "4ace9256-4e95-434c-9b11-1de56232c2a5"
      },
      "source": [
        "generate_submission_file(xgb,Xtest,\"XGBRegressor.csv\")"
      ],
      "execution_count": null,
      "outputs": [
        {
          "output_type": "stream",
          "text": [
            "Submission file with name XGBRegressor.csv created successfully\n"
          ],
          "name": "stdout"
        }
      ]
    },
    {
      "cell_type": "code",
      "metadata": {
        "colab": {
          "base_uri": "https://localhost:8080/",
          "height": 224
        },
        "id": "x8u9jOnWR1Gl",
        "outputId": "73bc15bb-55e2-43a8-ae02-568a0eaceef7"
      },
      "source": [
        "predict_data = pd.read_csv('XGBRegressor.csv')\n",
        "predict_data.head()"
      ],
      "execution_count": null,
      "outputs": [
        {
          "output_type": "execute_result",
          "data": {
            "text/html": [
              "<div>\n",
              "<style scoped>\n",
              "    .dataframe tbody tr th:only-of-type {\n",
              "        vertical-align: middle;\n",
              "    }\n",
              "\n",
              "    .dataframe tbody tr th {\n",
              "        vertical-align: top;\n",
              "    }\n",
              "\n",
              "    .dataframe thead th {\n",
              "        text-align: right;\n",
              "    }\n",
              "</style>\n",
              "<table border=\"1\" class=\"dataframe\">\n",
              "  <thead>\n",
              "    <tr style=\"text-align: right;\">\n",
              "      <th></th>\n",
              "      <th>id</th>\n",
              "      <th>F1</th>\n",
              "      <th>F2</th>\n",
              "      <th>F3</th>\n",
              "      <th>F4</th>\n",
              "      <th>F5</th>\n",
              "      <th>F6</th>\n",
              "      <th>F7</th>\n",
              "      <th>F8</th>\n",
              "      <th>F9</th>\n",
              "      <th>F10</th>\n",
              "      <th>F11</th>\n",
              "      <th>F12</th>\n",
              "      <th>F13</th>\n",
              "      <th>F14</th>\n",
              "      <th>F15</th>\n",
              "      <th>F16</th>\n",
              "      <th>F17</th>\n",
              "      <th>F18</th>\n",
              "      <th>F19</th>\n",
              "      <th>F20</th>\n",
              "      <th>F21</th>\n",
              "      <th>F22</th>\n",
              "      <th>F23</th>\n",
              "      <th>F24</th>\n",
              "      <th>F25</th>\n",
              "      <th>F26</th>\n",
              "      <th>F27</th>\n",
              "      <th>F28</th>\n",
              "    </tr>\n",
              "  </thead>\n",
              "  <tbody>\n",
              "    <tr>\n",
              "      <th>0</th>\n",
              "      <td>HOBBIES_1_001_CA_1_validation</td>\n",
              "      <td>1.027830</td>\n",
              "      <td>0.854167</td>\n",
              "      <td>0.616382</td>\n",
              "      <td>0.528237</td>\n",
              "      <td>0.591022</td>\n",
              "      <td>0.931987</td>\n",
              "      <td>1.452224</td>\n",
              "      <td>1.241091</td>\n",
              "      <td>1.198188</td>\n",
              "      <td>1.407059</td>\n",
              "      <td>1.308297</td>\n",
              "      <td>1.380403</td>\n",
              "      <td>1.491059</td>\n",
              "      <td>0.919832</td>\n",
              "      <td>1.039018</td>\n",
              "      <td>1.215298</td>\n",
              "      <td>1.205423</td>\n",
              "      <td>1.070984</td>\n",
              "      <td>1.524204</td>\n",
              "      <td>2.072240</td>\n",
              "      <td>1.926099</td>\n",
              "      <td>1.265971</td>\n",
              "      <td>0.826126</td>\n",
              "      <td>0.717092</td>\n",
              "      <td>1.064267</td>\n",
              "      <td>1.225292</td>\n",
              "      <td>0.931987</td>\n",
              "      <td>1.074375</td>\n",
              "    </tr>\n",
              "    <tr>\n",
              "      <th>1</th>\n",
              "      <td>HOBBIES_1_002_CA_1_validation</td>\n",
              "      <td>0.153953</td>\n",
              "      <td>0.248641</td>\n",
              "      <td>0.114075</td>\n",
              "      <td>0.114075</td>\n",
              "      <td>0.148890</td>\n",
              "      <td>0.206349</td>\n",
              "      <td>0.217538</td>\n",
              "      <td>0.161061</td>\n",
              "      <td>0.000872</td>\n",
              "      <td>0.121183</td>\n",
              "      <td>0.115942</td>\n",
              "      <td>0.160078</td>\n",
              "      <td>0.217538</td>\n",
              "      <td>0.190631</td>\n",
              "      <td>0.165141</td>\n",
              "      <td>0.121183</td>\n",
              "      <td>-0.006236</td>\n",
              "      <td>-0.006236</td>\n",
              "      <td>0.028579</td>\n",
              "      <td>0.206349</td>\n",
              "      <td>0.497104</td>\n",
              "      <td>0.509955</td>\n",
              "      <td>0.689511</td>\n",
              "      <td>0.689511</td>\n",
              "      <td>0.689511</td>\n",
              "      <td>0.724326</td>\n",
              "      <td>0.603004</td>\n",
              "      <td>0.359154</td>\n",
              "    </tr>\n",
              "    <tr>\n",
              "      <th>2</th>\n",
              "      <td>HOBBIES_1_003_CA_1_validation</td>\n",
              "      <td>0.792130</td>\n",
              "      <td>0.647030</td>\n",
              "      <td>0.665313</td>\n",
              "      <td>0.753458</td>\n",
              "      <td>0.728098</td>\n",
              "      <td>0.986515</td>\n",
              "      <td>0.946739</td>\n",
              "      <td>0.817520</td>\n",
              "      <td>0.764646</td>\n",
              "      <td>0.535346</td>\n",
              "      <td>0.442540</td>\n",
              "      <td>0.690355</td>\n",
              "      <td>0.703349</td>\n",
              "      <td>0.916268</td>\n",
              "      <td>0.785234</td>\n",
              "      <td>0.724200</td>\n",
              "      <td>0.967281</td>\n",
              "      <td>0.921618</td>\n",
              "      <td>0.921032</td>\n",
              "      <td>0.727601</td>\n",
              "      <td>0.625367</td>\n",
              "      <td>0.528238</td>\n",
              "      <td>0.482574</td>\n",
              "      <td>0.376726</td>\n",
              "      <td>0.616382</td>\n",
              "      <td>0.888911</td>\n",
              "      <td>0.985218</td>\n",
              "      <td>0.842830</td>\n",
              "    </tr>\n",
              "    <tr>\n",
              "      <th>3</th>\n",
              "      <td>HOBBIES_1_004_CA_1_validation</td>\n",
              "      <td>1.765318</td>\n",
              "      <td>1.569886</td>\n",
              "      <td>1.700689</td>\n",
              "      <td>1.918440</td>\n",
              "      <td>2.127432</td>\n",
              "      <td>1.606510</td>\n",
              "      <td>2.307903</td>\n",
              "      <td>2.369704</td>\n",
              "      <td>2.320547</td>\n",
              "      <td>2.104789</td>\n",
              "      <td>1.780790</td>\n",
              "      <td>1.662097</td>\n",
              "      <td>2.448057</td>\n",
              "      <td>2.081013</td>\n",
              "      <td>1.540002</td>\n",
              "      <td>1.564815</td>\n",
              "      <td>1.603209</td>\n",
              "      <td>1.769567</td>\n",
              "      <td>1.508238</td>\n",
              "      <td>1.790717</td>\n",
              "      <td>1.259629</td>\n",
              "      <td>1.283615</td>\n",
              "      <td>1.066904</td>\n",
              "      <td>1.066904</td>\n",
              "      <td>1.299583</td>\n",
              "      <td>1.264127</td>\n",
              "      <td>1.744876</td>\n",
              "      <td>2.705653</td>\n",
              "    </tr>\n",
              "    <tr>\n",
              "      <th>4</th>\n",
              "      <td>HOBBIES_1_005_CA_1_validation</td>\n",
              "      <td>1.792270</td>\n",
              "      <td>1.599129</td>\n",
              "      <td>1.745286</td>\n",
              "      <td>1.876089</td>\n",
              "      <td>1.790426</td>\n",
              "      <td>1.764263</td>\n",
              "      <td>1.606944</td>\n",
              "      <td>1.629444</td>\n",
              "      <td>1.887871</td>\n",
              "      <td>1.741597</td>\n",
              "      <td>1.401818</td>\n",
              "      <td>1.819853</td>\n",
              "      <td>2.537909</td>\n",
              "      <td>2.499610</td>\n",
              "      <td>2.012495</td>\n",
              "      <td>1.872400</td>\n",
              "      <td>1.933912</td>\n",
              "      <td>2.080119</td>\n",
              "      <td>1.805898</td>\n",
              "      <td>1.922019</td>\n",
              "      <td>1.500421</td>\n",
              "      <td>1.289288</td>\n",
              "      <td>0.963201</td>\n",
              "      <td>0.616382</td>\n",
              "      <td>0.440672</td>\n",
              "      <td>0.679167</td>\n",
              "      <td>1.069062</td>\n",
              "      <td>1.086707</td>\n",
              "    </tr>\n",
              "  </tbody>\n",
              "</table>\n",
              "</div>"
            ],
            "text/plain": [
              "                              id        F1  ...       F27       F28\n",
              "0  HOBBIES_1_001_CA_1_validation  1.027830  ...  0.931987  1.074375\n",
              "1  HOBBIES_1_002_CA_1_validation  0.153953  ...  0.603004  0.359154\n",
              "2  HOBBIES_1_003_CA_1_validation  0.792130  ...  0.985218  0.842830\n",
              "3  HOBBIES_1_004_CA_1_validation  1.765318  ...  1.744876  2.705653\n",
              "4  HOBBIES_1_005_CA_1_validation  1.792270  ...  1.069062  1.086707\n",
              "\n",
              "[5 rows x 29 columns]"
            ]
          },
          "metadata": {
            "tags": []
          },
          "execution_count": 31
        }
      ]
    },
    {
      "cell_type": "markdown",
      "metadata": {
        "id": "ThBB0wlsUKZp"
      },
      "source": [
        "**Plot Features Importance using best model(LGB Model)**"
      ]
    },
    {
      "cell_type": "code",
      "metadata": {
        "colab": {
          "base_uri": "https://localhost:8080/",
          "height": 627
        },
        "id": "lDt5B4BFSv9v",
        "outputId": "ce710690-2ef4-4b1c-ea35-1f035a6f39d4"
      },
      "source": [
        "features=Xtrain.columns\n",
        "imp=lgb.feature_importances_\n",
        "indices=(np.argsort(imp))[5:]\n",
        "plt.figure(figsize=(8,10))\n",
        "plt.title('Feature Importance',fontsize=14)\n",
        "plt.barh(range(len(indices)),imp[indices],color='r')\n",
        "plt.yticks(range(len(indices)),[features[i] for i in indices])\n",
        "plt.xlabel('Relative Importance',fontsize=14)\n",
        "plt.show()"
      ],
      "execution_count": null,
      "outputs": [
        {
          "output_type": "display_data",
          "data": {
            "image/png": "[encoded data removed]",
            "text/plain": [
              "<Figure size 576x720 with 1 Axes>"
            ]
          },
          "metadata": {
            "tags": [],
            "needs_background": "light"
          }
        }
      ]
    },
    {
      "cell_type": "code",
      "metadata": {
        "colab": {
          "base_uri": "https://localhost:8080/"
        },
        "id": "eawrCL6K8dVX",
        "outputId": "3a14632c-6204-4c67-824d-c9599068dc7d"
      },
      "source": [
        "pip install tabletext   "
      ],
      "execution_count": 2,
      "outputs": [
        {
          "output_type": "stream",
          "text": [
            "Collecting tabletext\n",
            "  Downloading https://files.pythonhosted.org/packages/ed/53/4152a8c71531d4b09eb34cfd7cd18f3764a988de4dc9039405f8182dddb7/tabletext-0.1.tar.gz\n",
            "Building wheels for collected packages: tabletext\n",
            "  Building wheel for tabletext (setup.py) ... \u001b[?25l\u001b[?25hdone\n",
            "  Created wheel for tabletext: filename=tabletext-0.1-cp37-none-any.whl size=6024 sha256=a3db34e164c41242abf6fcf1ac03a253e76b43efb13f823a44dd7b0614943204\n",
            "  Stored in directory: /root/.cache/pip/wheels/63/15/d8/897b137f43975c4f5f49139be65fee6dbeab6a3f88c1838f66\n",
            "Successfully built tabletext\n",
            "Installing collected packages: tabletext\n",
            "Successfully installed tabletext-0.1\n"
          ],
          "name": "stdout"
        }
      ]
    },
    {
      "cell_type": "code",
      "metadata": {
        "colab": {
          "base_uri": "https://localhost:8080/"
        },
        "id": "IOXSvkKX7GoX",
        "outputId": "5823b482-72b5-4348-82a1-321f9fc13f39"
      },
      "source": [
        "#Refernece taken from : https://pypi.org/project/tabletext/\n",
        "import tabletext\n",
        "\n",
        "s = [['No.','Model Name','RMSE','Private Score','Public Score'],\n",
        "        ['1','Linear Regression',1.8061,0.71926 ,0.65149],\n",
        "        ['2','Decision Tree',2.6658,0.93041 , 0.78754],\n",
        "        ['3','Decision Trees with Hyperparameters',1.7761,0.68690,0.63487],\n",
        "        ['4','Random Forest Regressor',1.7624,0.68315,0.61407],\n",
        "        ['5','XGBoost Regressor',1.7741,0.65077,0.60550],\n",
        "        ['6','CatBoost Regressor',1.7584,0.65298,0.57053],\n",
        "        ['7','LightGBM Regressor',1.7459,0.65173,0.56212]\n",
        "      ]\n",
        "print(tabletext.to_text(s))"
      ],
      "execution_count": 3,
      "outputs": [
        {
          "output_type": "stream",
          "text": [
            "┌─────┬─────────────────────────────────────┬────────┬───────────────┬──────────────┐\n",
            "│ No. │ Model Name                          │ RMSE   │ Private Score │ Public Score │\n",
            "├─────┼─────────────────────────────────────┼────────┼───────────────┼──────────────┤\n",
            "│ 1   │ Linear Regression                   │ 1.8061 │       0.71926 │      0.65149 │\n",
            "├─────┼─────────────────────────────────────┼────────┼───────────────┼──────────────┤\n",
            "│ 2   │ Decision Tree                       │ 2.6658 │       0.93041 │      0.78754 │\n",
            "├─────┼─────────────────────────────────────┼────────┼───────────────┼──────────────┤\n",
            "│ 3   │ Decision Trees with Hyperparameters │ 1.7761 │        0.6869 │      0.63487 │\n",
            "├─────┼─────────────────────────────────────┼────────┼───────────────┼──────────────┤\n",
            "│ 4   │ Random Forest Regressor             │ 1.7624 │       0.68315 │      0.61407 │\n",
            "├─────┼─────────────────────────────────────┼────────┼───────────────┼──────────────┤\n",
            "│ 5   │ XGBoost Regressor                   │ 1.7741 │       0.65077 │       0.6055 │\n",
            "├─────┼─────────────────────────────────────┼────────┼───────────────┼──────────────┤\n",
            "│ 6   │ CatBoost Regressor                  │ 1.7584 │       0.65298 │      0.57053 │\n",
            "├─────┼─────────────────────────────────────┼────────┼───────────────┼──────────────┤\n",
            "│ 7   │ LightGBM Regressor                  │ 1.7459 │       0.65173 │      0.56212 │\n",
            "└─────┴─────────────────────────────────────┴────────┴───────────────┴──────────────┘\n"
          ],
          "name": "stdout"
        }
      ]
    },
    {
      "cell_type": "markdown",
      "metadata": {
        "id": "T4GGpBGc-B3v"
      },
      "source": [
        "**Among all the trained models,  LightGBM Regressor performed well.**"
      ]
    },
    {
      "cell_type": "code",
      "metadata": {
        "colab": {
          "base_uri": "https://localhost:8080/",
          "height": 519
        },
        "id": "hAGq21BgU1Jd",
        "outputId": "f4032a49-4ce1-4645-e8ba-ebd2f538d7e1"
      },
      "source": [
        "from IPython.display import Image\n",
        "Image(filename=\"Untitled.png\")"
      ],
      "execution_count": null,
      "outputs": [
        {
          "output_type": "execute_result",
          "data": {
            "image/png": "[encoded data removed]",
            "text/plain": [
              "<IPython.core.display.Image object>"
            ]
          },
          "metadata": {
            "tags": []
          },
          "execution_count": 40
        }
      ]
    },
    {
      "cell_type": "code",
      "metadata": {
        "colab": {
          "base_uri": "https://localhost:8080/",
          "height": 198
        },
        "id": "0StxYwY-6tFI",
        "outputId": "06baffb4-b965-43b9-ed3c-786587b473cd"
      },
      "source": [
        "Image(filename=\"Untitled.png\")"
      ],
      "execution_count": 77,
      "outputs": [
        {
          "output_type": "execute_result",
          "data": {
            "image/png": "[encoded data removed]",
            "text/plain": [
              "<IPython.core.display.Image object>"
            ]
          },
          "metadata": {
            "tags": []
          },
          "execution_count": 77
        }
      ]
    },
    {
      "cell_type": "code",
      "metadata": {
        "id": "z91Dq8TeVKP_"
      },
      "source": [
        ""
      ],
      "execution_count": null,
      "outputs": []
    }
  ]
}